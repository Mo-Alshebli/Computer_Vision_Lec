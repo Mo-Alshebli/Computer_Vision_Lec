{
 "cells": [
  {
   "cell_type": "markdown",
   "metadata": {
    "id": "HFnyQ7uSHsCE"
   },
   "source": [
    "# Set"
   ]
  },
  {
   "cell_type": "markdown",
   "metadata": {
    "id": "o7LceCoXIE8a"
   },
   "source": [
    "\n",
    "\n",
    "```\n",
    "# Set:  are similar to lists, but they do not allow repetition. Any duplicate item you delete immediately, just as ●\n",
    "They arrange the elements, so they are {1,2,3,4,6,8}\n",
    "```\n",
    "\n"
   ]
  },
  {
   "cell_type": "code",
   "execution_count": null,
   "metadata": {
    "colab": {
     "base_uri": "https://localhost:8080/"
    },
    "id": "k5RIbyC5HvB-",
    "outputId": "e9203957-1a83-47eb-d78c-761d816db7f7"
   },
   "outputs": [
    {
     "name": "stdout",
     "output_type": "stream",
     "text": [
      "{1, 2, 3, 4, 6, 8}\n",
      "{1, 2, 3, 4, 5, 6, 7, 8, 9, 10, 11, 12}\n",
      "{1, 2, 3, 4, 6, 8}\n",
      "{1, 2, 3, 4, 5, 6, 7, 8, 9, 10, 11, 12}\n",
      "{1, 2, 3, 4, 6, 8}\n",
      "{5, 7, 9, 10, 11, 12}\n"
     ]
    }
   ],
   "source": [
    "\n",
    "D = {1,1,2,2,6,8,4,6,3}\n",
    "print(D)\n",
    "#And you can write with the same conditions mentioned in the lists ●\n",
    "a ={1,2,3,4,5,6,7,8,9,10,11,12}\n",
    "#Only the least items are answered ●\n",
    "print(a or D)\n",
    "#Answer only the most elements ●\n",
    "print(a and D)\n",
    "\n",
    "#All items here and here ●\n",
    "#a | b\n",
    "print(a.union(D))\n",
    "# #● common items only\n",
    "# #a & b\n",
    "print(a.intersection(D))\n",
    "\n",
    "print(a.difference(D))"
   ]
  },
  {
   "cell_type": "markdown",
   "metadata": {
    "id": "72hkxA9bJWAa"
   },
   "source": [
    "# Conditional statement"
   ]
  },
  {
   "cell_type": "markdown",
   "metadata": {
    "id": "iHfUi3MnLQUB"
   },
   "source": [
    "\n",
    "\n",
    "```\n",
    "# F is written, followed by a colon, then in the next line a space is left, and Python knows that thousands are finished.\n",
    "\n",
    "```\n",
    "\n"
   ]
  },
  {
   "cell_type": "code",
   "execution_count": null,
   "metadata": {
    "colab": {
     "base_uri": "https://localhost:8080/"
    },
    "id": "d5nTfCL08hQQ",
    "outputId": "af37fec1-f1de-402c-9b35-2b4203aa3818"
   },
   "outputs": [
    {
     "name": "stdout",
     "output_type": "stream",
     "text": [
      "hello\n",
      "no\n"
     ]
    }
   ],
   "source": [
    "#When you find that the line is written without a space\n",
    "x=4\n",
    "if x != 5 :\n",
    "  print('hello')\n",
    "#If you use eles, it will be the line after it, and make two points, and go north ●\n",
    "if x >= 5 :\n",
    "  print('hello')\n",
    "else :\n",
    "  print('no')"
   ]
  },
  {
   "cell_type": "code",
   "execution_count": null,
   "metadata": {
    "colab": {
     "base_uri": "https://localhost:8080/"
    },
    "id": "s-LtJ2fS8kve",
    "outputId": "18158a3d-3110-4b30-ba1d-55b01fe78132"
   },
   "outputs": [
    {
     "name": "stdout",
     "output_type": "stream",
     "text": [
      "درجة الرسوب\n"
     ]
    }
   ],
   "source": [
    "\n",
    "grade = 60\n",
    "if grade >= 65:\n",
    "  print(\" درجة النجاح\")\n",
    "else:\n",
    "  print(\"درجة الرسوب\")"
   ]
  },
  {
   "cell_type": "code",
   "execution_count": null,
   "metadata": {
    "colab": {
     "base_uri": "https://localhost:8080/"
    },
    "id": "fpXYpJ3-8n4f",
    "outputId": "eb992982-e399-4ca1-cba6-a323507955e7"
   },
   "outputs": [
    {
     "name": "stdout",
     "output_type": "stream",
     "text": [
      "no\n"
     ]
    }
   ],
   "source": [
    "#And if you want to use Else iF, write it elif \n",
    "if x >= 5 :\n",
    "  print('hello')\n",
    "elif x > 8 :\n",
    "  print('yes')\n",
    "else :\n",
    "  print('no')\n"
   ]
  },
  {
   "cell_type": "code",
   "execution_count": null,
   "metadata": {
    "colab": {
     "base_uri": "https://localhost:8080/"
    },
    "id": "j1aVeVvX9Mcc",
    "outputId": "0492e764-d9c6-44ce-a647-f9b80d582d99"
   },
   "outputs": [
    {
     "name": "stdout",
     "output_type": "stream",
     "text": [
      "hello\n"
     ]
    }
   ],
   "source": [
    "#And it is possible not to create new lines, to be in the same line ●\n",
    "if x != 5 : print('hello')\n",
    "elif x > 8 : print('yes')\n",
    "else :print('no')"
   ]
  },
  {
   "cell_type": "code",
   "execution_count": null,
   "metadata": {
    "colab": {
     "base_uri": "https://localhost:8080/"
    },
    "id": "S3rEDqJvLdQI",
    "outputId": "6ea45bf0-0feb-42f6-93b3-44badfea1205"
   },
   "outputs": [
    {
     "name": "stdout",
     "output_type": "stream",
     "text": [
      "11\n"
     ]
    }
   ],
   "source": [
    "a,b = 11,10\n",
    "max = a if (a>b) else b\n",
    "print (max)"
   ]
  },
  {
   "cell_type": "code",
   "execution_count": null,
   "metadata": {
    "id": "FjQfi3ERJfjU"
   },
   "outputs": [],
   "source": []
  },
  {
   "cell_type": "markdown",
   "metadata": {
    "id": "2GHAgTYDNLR3"
   },
   "source": [
    "# Loop"
   ]
  },
  {
   "cell_type": "markdown",
   "metadata": {
    "id": "Qm7Whs3uNOyh"
   },
   "source": [
    "## While"
   ]
  },
  {
   "cell_type": "markdown",
   "metadata": {
    "id": "Ihc5nmOHNSyc"
   },
   "source": [
    "\n",
    "\n",
    "```\n",
    "# while [a condition is True]:\n",
    "[do something]\n",
    "```\n",
    "\n"
   ]
  },
  {
   "cell_type": "markdown",
   "metadata": {
    "id": "bgsT9NDrO2Z_"
   },
   "source": [
    "It is done by writing the while and then the condition, and if it is true, the steps that are done are executed with a little right space\n",
    ", and then return again to the condition of the wail to evaluate it, if it is false, then all the steps that follow are bypassed\n",
    "Make a space, then go to the first step for which no space is made\n",
    "We will take a number from the user, then the condition that it be less than or equal to 100, and the two conditions that will be implemented,\n",
    "That the number is printed, and added to it by 1, and in the end after the end of the wail, the word done is displayed, which is\n",
    "It is not made for a distance, so this will be implemented"
   ]
  },
  {
   "cell_type": "code",
   "execution_count": null,
   "metadata": {
    "colab": {
     "base_uri": "https://localhost:8080/"
    },
    "id": "8_GpEyDGvPrE",
    "outputId": "3f9e6734-1e9c-47b9-8787-3c9ce8d37412"
   },
   "outputs": [
    {
     "name": "stdout",
     "output_type": "stream",
     "text": [
      "1\n",
      "2\n",
      "3\n",
      "4\n",
      "5\n"
     ]
    }
   ],
   "source": [
    "# program to display numbers from 1 to 5\n",
    "\n",
    "# initialize the variable\n",
    "i = 1\n",
    "n = 5\n",
    "\n",
    "# while loop from i = 1 to 5\n",
    "while i <= n:\n",
    "    print(i)\n",
    "    i = i + 1"
   ]
  },
  {
   "cell_type": "code",
   "execution_count": null,
   "metadata": {
    "colab": {
     "base_uri": "https://localhost:8080/"
    },
    "id": "Lmci6XgxvUxT",
    "outputId": "c9c8cbee-7190-40d2-b87c-c7b6b8245e00"
   },
   "outputs": [
    {
     "name": "stdout",
     "output_type": "stream",
     "text": [
      "You have passed level 0\n",
      "You have passed level 1\n",
      "You have passed level 2\n",
      "You have passed level 3\n",
      "You have passed level 4\n",
      "You have passed level 5\n",
      "Level Ends\n"
     ]
    }
   ],
   "source": [
    "current_level = 0\n",
    "final_level = 5\n",
    "\n",
    "game_completed = True\n",
    "\n",
    "while current_level <= final_level:\n",
    "    if game_completed: \n",
    "        print('You have passed level', current_level)\n",
    "        current_level += 1\n",
    "\n",
    "print('Level Ends')"
   ]
  },
  {
   "cell_type": "code",
   "execution_count": null,
   "metadata": {
    "colab": {
     "base_uri": "https://localhost:8080/"
    },
    "id": "0rmyyzaPNteR",
    "outputId": "c9561437-8f6a-4b17-ace9-a6d374cdcd0e"
   },
   "outputs": [
    {
     "name": "stdout",
     "output_type": "stream",
     "text": [
      "Guess a number between 1 and 25:\n",
      "4\n",
      "Your guess is too low\n",
      "You did not guess the number. The number was 14\n",
      "Guess a number between 1 and 25:\n",
      "12\n",
      "Your guess is too low\n",
      "You did not guess the number. The number was 14\n",
      "Guess a number between 1 and 25:\n",
      "17\n",
      "Your guess is too high\n",
      "You did not guess the number. The number was 14\n",
      "Guess a number between 1 and 25:\n",
      "14\n"
     ]
    }
   ],
   "source": [
    "import random\n",
    "number = random.randint(1, 25)\n",
    "number_of_guesses = 0\n",
    "while number_of_guesses < 5:\n",
    "  print('Guess a number between 1 and 25:')\n",
    "  guess = input()\n",
    "  guess = int(guess)\n",
    "  number_of_guesses = number_of_guesses + 1\n",
    "  if guess < number:\n",
    "    print('Your guess is too low')\n",
    "  if guess > number:\n",
    "    print('Your guess is too high')\n",
    "  if guess == number:\n",
    "    break\n",
    "  if guess == number:\n",
    "    print('You guessed the number in ' + str(number_of_guesses)+ ' tries!')\n",
    "  else:\n",
    "    print('You did not guess the number. The number was ' +str(number))"
   ]
  },
  {
   "cell_type": "markdown",
   "metadata": {
    "id": "RSNyOG--O5_5"
   },
   "source": [
    "## For"
   ]
  },
  {
   "cell_type": "markdown",
   "metadata": {
    "id": "mon7TxPbO8pw"
   },
   "source": [
    "\n",
    "\n",
    "```\n",
    "# for [iterating variable] in [sequence]:\n",
    "[do something]\n",
    "```\n",
    "\n"
   ]
  },
  {
   "cell_type": "code",
   "execution_count": null,
   "metadata": {
    "colab": {
     "base_uri": "https://localhost:8080/"
    },
    "id": "4eP4B2R3LpDT",
    "outputId": "bc0d41d4-e552-48b0-f146-a690acdfd999"
   },
   "outputs": [
    {
     "name": "stdout",
     "output_type": "stream",
     "text": [
      "0\n",
      "1\n",
      "2\n",
      "3\n",
      "4\n",
      "5\n",
      "6\n",
      "7\n",
      "8\n",
      "9\n"
     ]
    }
   ],
   "source": [
    "for i in range(20):\n",
    "  if i==10:\n",
    "    break\n",
    "  print(i)\n"
   ]
  },
  {
   "cell_type": "code",
   "execution_count": null,
   "metadata": {
    "id": "bXiyyowZoWPR"
   },
   "outputs": [],
   "source": [
    "# to use for we use with it in after it the function Range  \n",
    "# This the formal Write there is many shape it write\n",
    "for n in range(5):\n",
    "  print(\"Hello word\")\n",
    "\n",
    "Y=\"Python\"\n",
    "for i in range(len(Y)):\n",
    " print(Y[i])\n",
    "\n",
    "for i in Y:\n",
    "  if i=='h':\n",
    "    continue\n",
    "  print(i)\n",
    "\n",
    "for i in range(20):\n",
    "  if i%2==0:\n",
    "    continue\n",
    "  print(i)"
   ]
  },
  {
   "cell_type": "code",
   "execution_count": null,
   "metadata": {
    "colab": {
     "base_uri": "https://localhost:8080/"
    },
    "id": "vNm7Zh-yN36q",
    "outputId": "40ea4fd5-7b30-4884-86bb-3d77a7f41a04"
   },
   "outputs": [
    {
     "name": "stdout",
     "output_type": "stream",
     "text": [
      "AI\n",
      "CS\n",
      "IT\n"
     ]
    }
   ],
   "source": [
    "for i in d.values():\n",
    "  print(i)"
   ]
  },
  {
   "cell_type": "code",
   "execution_count": null,
   "metadata": {
    "colab": {
     "base_uri": "https://localhost:8080/"
    },
    "id": "wLPxQquVs2Gr",
    "outputId": "d64ae67f-1ce1-4177-8c9b-93f2c6123dcd"
   },
   "outputs": [
    {
     "name": "stdout",
     "output_type": "stream",
     "text": [
      "('Mohammed', 'AI')\n",
      "('Omer', 'CS')\n",
      "('Omair', 'IT')\n",
      "===================\n",
      "Mohammed\n",
      "AI\n",
      "Omer\n",
      "CS\n",
      "Omair\n",
      "IT\n",
      "===================\n",
      "Mohammed\n",
      "Omer\n",
      "Omair\n",
      "===================\n",
      "AI\n",
      "CS\n",
      "IT\n"
     ]
    }
   ],
   "source": [
    "# And its possible  to use it with Dictionary  and there is many function we use it with it  we will see\n",
    "\n",
    "d={\"Mohammed\":\"AI\",\"Omer\":\"CS\",\"Omair\":\"IT\"}\n",
    "for i in d.items():\n",
    "  print(i)\n",
    "\n",
    "print(\"===================\")\n",
    "  #if we want to print every one we will make like this\n",
    "for i,n in d.items():\n",
    "    print(i)\n",
    "    print(n)\n",
    "print(\"===================\")\n",
    "\n",
    "#If You Want Print Just The Key\n",
    "for i in d.keys():\n",
    "  print(i)\n",
    "print(\"===================\")\n",
    "\n",
    "#If You Want Print Just The Value\n",
    "for i in d.values():\n",
    "  print(i)\n"
   ]
  },
  {
   "cell_type": "code",
   "execution_count": null,
   "metadata": {
    "colab": {
     "base_uri": "https://localhost:8080/"
    },
    "id": "LqgmAzXSx1lg",
    "outputId": "1110ddd3-d065-4d7b-f88f-de4946f394f2"
   },
   "outputs": [
    {
     "name": "stdout",
     "output_type": "stream",
     "text": [
      "[(1, 'a'), (2, 'b'), (3, 'c')]\n"
     ]
    }
   ],
   "source": [
    "\n",
    "#If i have two list and you want to merge it use \n",
    "#the Function Zip\n",
    "numbers = [1, 2, 3]\n",
    "letters = ['a', 'b', 'c']\n",
    "zipped = zip(numbers, letters)\n",
    "print(list(zipped))"
   ]
  },
  {
   "cell_type": "code",
   "execution_count": null,
   "metadata": {
    "colab": {
     "base_uri": "https://localhost:8080/"
    },
    "id": "9xHBDqKex1gs",
    "outputId": "39016822-a01e-4d3b-e41c-9da1c9bc9eb6"
   },
   "outputs": [
    {
     "name": "stdout",
     "output_type": "stream",
     "text": [
      "[0, 1, 2, 3, 4, 5, 6, 7, 8, 9, 10, 11, 12, 13, 14, 15, 16, 17, 18, 19]\n",
      "[0, 2, 4, 6, 8, 10, 12, 14, 16, 18]\n"
     ]
    }
   ],
   "source": [
    "#If you want make list from 1, to 200 it is so\n",
    "#hard to write because  that there is way to make for inside list\n",
    "\n",
    "a=[i for i in range(20) ]\n",
    "print(a)\n",
    "# and you can make conditions  in it\n",
    "a=[i for i in range(20) if i%2==0 ]\n",
    "print(a)\n"
   ]
  },
  {
   "cell_type": "code",
   "execution_count": null,
   "metadata": {
    "colab": {
     "base_uri": "https://localhost:8080/"
    },
    "id": "wcJ5Qj-Ox1c-",
    "outputId": "475cb7ef-cd71-41df-c213-0fa7f4b6e157"
   },
   "outputs": [
    {
     "name": "stdout",
     "output_type": "stream",
     "text": [
      "[(0, 0), (0, 1), (0, 2), (0, 3), (0, 4), (1, 0), (1, 1), (1, 2), (1, 3), (1, 4), (2, 0), (2, 1), (2, 2), (2, 3), (2, 4), (3, 0), (3, 1), (3, 2), (3, 3), (3, 4), (4, 0), (4, 1), (4, 2), (4, 3), (4, 4)]\n"
     ]
    }
   ],
   "source": [
    "# For inside for \n",
    "a=[(i,j) for i in range(5) for j in range(5) ]\n",
    "print(a)"
   ]
  },
  {
   "cell_type": "code",
   "execution_count": null,
   "metadata": {
    "colab": {
     "base_uri": "https://localhost:8080/"
    },
    "id": "wC_3zP3jx1ZL",
    "outputId": "09850907-ee21-4864-8060-16d22490eb84"
   },
   "outputs": [
    {
     "name": "stdout",
     "output_type": "stream",
     "text": [
      "0\n",
      "1\n",
      "2\n",
      "3\n",
      "4\n",
      " Done\n"
     ]
    }
   ],
   "source": [
    "# and we dont stop here you can make else with for 😀\n",
    "for x in range(5):\n",
    "  print(x)\n",
    "else:\n",
    "  print(\" Done\")"
   ]
  },
  {
   "cell_type": "code",
   "execution_count": null,
   "metadata": {
    "colab": {
     "base_uri": "https://localhost:8080/"
    },
    "id": "YVrg2m2dx1M5",
    "outputId": "2a98c27d-e658-41b9-eadd-1916ce2f5094"
   },
   "outputs": [
    {
     "name": "stdout",
     "output_type": "stream",
     "text": [
      "190\n"
     ]
    }
   ],
   "source": [
    "\n",
    "# if you want to collect or sum the number from 1 to any number ther is \n",
    "# an easy way in on line \n",
    "print(sum([i for i in range(20)]))"
   ]
  },
  {
   "cell_type": "markdown",
   "metadata": {
    "id": "aTdM8yhP0Ld_"
   },
   "source": [
    "# Statistics Library"
   ]
  },
  {
   "cell_type": "markdown",
   "metadata": {
    "id": "y4Rf3BX70RvX"
   },
   "source": [
    "\n",
    "\n",
    "```\n",
    "# The Statistics Library  is important  in analysis data you should Understand well\n",
    "```\n",
    "\n"
   ]
  },
  {
   "cell_type": "code",
   "execution_count": null,
   "metadata": {
    "id": "oSQhVjow1MR-"
   },
   "outputs": [],
   "source": [
    "#It is an important library for dealing with statistical values in Python\n",
    "#It is call by:\n",
    "import statistics as st\n",
    "#- Then the symbol st is dealt with"
   ]
  },
  {
   "cell_type": "code",
   "execution_count": null,
   "metadata": {
    "colab": {
     "base_uri": "https://localhost:8080/"
    },
    "id": "aesN14Wd1ciH",
    "outputId": "c93450eb-2591-438c-f397-1dbb2166edbe"
   },
   "outputs": [
    {
     "name": "stdout",
     "output_type": "stream",
     "text": [
      "4.125\n"
     ]
    }
   ],
   "source": [
    "# You can count the average with\n",
    "b=[1,2,3,4,3,5,6,7]\n",
    "a=st.variance(b)\n",
    "print(a)\n",
    "\n"
   ]
  },
  {
   "cell_type": "code",
   "execution_count": null,
   "metadata": {
    "colab": {
     "base_uri": "https://localhost:8080/"
    },
    "id": "TFzh1YxX2gbW",
    "outputId": "917c7d25-bb02-40a4-8d1e-9a815ea4ea0d"
   },
   "outputs": [
    {
     "name": "stdout",
     "output_type": "stream",
     "text": [
      "3.5\n",
      "3\n",
      "4\n",
      "3\n",
      "2.03100960115899\n",
      "4.125\n"
     ]
    }
   ],
   "source": [
    "# Median\n",
    "a=st.median(b)\n",
    "print(a)\n",
    "\n",
    "#Least Median: If the number of values is odd, it will be the same as the value in the text (the same field), but if it is even, instead of adding the two in the text and dividing it by 2, I will take the lesser value.\n",
    "a=st.median_low(b)\n",
    "print(a)\n",
    "\n",
    "#Highest Median: The same idea as the lowest, but we take the highest if the number of digits is even\n",
    "a=st.median_high(b)\n",
    "print(a)\n",
    "\n",
    "#Mode: The most frequently repeated number\n",
    "a=st.mode(b)\n",
    "print(a)\n",
    "\n",
    "#standard deviation\n",
    "a=st.stdev(b)\n",
    "print(a)\n",
    "\n",
    "#variance\n",
    "a=st.variance(b)\n",
    "print(a)"
   ]
  },
  {
   "cell_type": "markdown",
   "metadata": {
    "id": "cuQpjLTE3x81"
   },
   "source": [
    "# Random Library "
   ]
  },
  {
   "cell_type": "code",
   "execution_count": null,
   "metadata": {
    "colab": {
     "base_uri": "https://localhost:8080/"
    },
    "id": "1EcU84vA3_wG",
    "outputId": "34b1269f-a04c-415b-ec6d-fce0651099f4"
   },
   "outputs": [
    {
     "name": "stdout",
     "output_type": "stream",
     "text": [
      "0.9598593111089591\n"
     ]
    }
   ],
   "source": [
    "#It is for random numbers, and \n",
    "#it is called with the command:\n",
    "import random as rn\n",
    "\n",
    "#A random number between zero and one\n",
    "a=rn.random()\n",
    "print(a)\n"
   ]
  },
  {
   "cell_type": "code",
   "execution_count": null,
   "metadata": {
    "colab": {
     "base_uri": "https://localhost:8080/"
    },
    "id": "AUVIpGyq6be5",
    "outputId": "dfc46fa7-bf4f-48a2-c1cd-cd8cc3916b59"
   },
   "outputs": [
    {
     "name": "stdout",
     "output_type": "stream",
     "text": [
      "14\n"
     ]
    }
   ],
   "source": [
    "#Give a integer number from 1 to 20\n",
    "a=rn.randint(1,20)\n",
    "print(a)"
   ]
  },
  {
   "cell_type": "code",
   "execution_count": null,
   "metadata": {
    "colab": {
     "base_uri": "https://localhost:8080/"
    },
    "id": "MdSK3Y0G6bbc",
    "outputId": "a6bf332d-453f-4684-81b6-5b8c66941db5"
   },
   "outputs": [
    {
     "name": "stdout",
     "output_type": "stream",
     "text": [
      "4.3340102276377115\n"
     ]
    }
   ],
   "source": [
    "#A decimal number between 1 and 20\n",
    "a=rn.uniform(1,20)\n",
    "print(a)"
   ]
  },
  {
   "cell_type": "code",
   "execution_count": null,
   "metadata": {
    "colab": {
     "base_uri": "https://localhost:8080/"
    },
    "id": "1AqiToBI6bYt",
    "outputId": "cee0ddcb-69f6-4055-ff58-dd713b1c9f2c"
   },
   "outputs": [
    {
     "name": "stdout",
     "output_type": "stream",
     "text": [
      "50\n"
     ]
    }
   ],
   "source": [
    "#Gives an integer number from zero to 150\n",
    "a=rn.randrange(150)\n",
    "print(a)"
   ]
  },
  {
   "cell_type": "code",
   "execution_count": null,
   "metadata": {
    "colab": {
     "base_uri": "https://localhost:8080/"
    },
    "id": "qr7_7DPI6bWS",
    "outputId": "4e9dbd0a-251d-4438-ee00-092b62010d49"
   },
   "outputs": [
    {
     "name": "stdout",
     "output_type": "stream",
     "text": [
      "10\n"
     ]
    }
   ],
   "source": [
    "# give a number from 0 to 20, but it will be from steps 2, (even)\n",
    "a=rn.randrange(0,20,2)\n",
    "print(a)"
   ]
  },
  {
   "cell_type": "code",
   "execution_count": null,
   "metadata": {
    "colab": {
     "base_uri": "https://localhost:8080/"
    },
    "id": "p93diL8L6bTf",
    "outputId": "cb85cd04-0670-4626-927e-6eabd27e39a3"
   },
   "outputs": [
    {
     "name": "stdout",
     "output_type": "stream",
     "text": [
      "b\n"
     ]
    }
   ],
   "source": [
    "#selects one of the elements\n",
    "a=rn.choice(['a','b','c','d'])\n",
    "print(a)"
   ]
  },
  {
   "cell_type": "code",
   "execution_count": null,
   "metadata": {
    "colab": {
     "base_uri": "https://localhost:8080/"
    },
    "id": "amuJfTUf6i5D",
    "outputId": "f0f9fe2e-3209-4542-a5fa-453af999c901"
   },
   "outputs": [
    {
     "name": "stdout",
     "output_type": "stream",
     "text": [
      "l\n"
     ]
    }
   ],
   "source": [
    "#chooses one of the letters at random\n",
    "a=rn.choice(\" Hello World\")\n",
    "print(a)"
   ]
  },
  {
   "cell_type": "code",
   "execution_count": null,
   "metadata": {
    "colab": {
     "base_uri": "https://localhost:8080/"
    },
    "id": "TZC4AIGu6mAg",
    "outputId": "413d137e-8142-4516-b986-d5bd51b6cdeb"
   },
   "outputs": [
    {
     "name": "stdout",
     "output_type": "stream",
     "text": [
      "[199, 158, 129, 48, 131, 21, 182, 61, 103, 53]\n"
     ]
    }
   ],
   "source": [
    "#selects ten items, from zero to 200\n",
    "a=rn.sample(range(200),10)\n",
    "print(a)"
   ]
  },
  {
   "cell_type": "code",
   "execution_count": null,
   "metadata": {
    "colab": {
     "base_uri": "https://localhost:8080/"
    },
    "id": "8qpDd9iH6oCB",
    "outputId": "9738882a-a331-45aa-d564-e267c2eb9ea5"
   },
   "outputs": [
    {
     "name": "stdout",
     "output_type": "stream",
     "text": [
      "[4, 3, 6, 5, 1, 2]\n"
     ]
    }
   ],
   "source": [
    "#It randomizes the list\n",
    "i=[1,2,3,4,5,6]\n",
    "rn.shuffle(i)\n",
    "print(i)"
   ]
  },
  {
   "cell_type": "markdown",
   "metadata": {
    "id": "aVEo3K1Q8Y3R"
   },
   "source": [
    "# Function"
   ]
  },
  {
   "cell_type": "markdown",
   "metadata": {
    "id": "8EyRGJBz8b0d"
   },
   "source": [
    "\n",
    "\n",
    "```\n",
    "#Def is first written before it, then the name of the function, then \n",
    "parentheses (), which will be used as empty if there are no parameters, and when\n",
    "Call it anywhere, write its name and then parentheses, but the function must \n",
    "read the first\n",
    "```\n",
    "\n"
   ]
  },
  {
   "cell_type": "code",
   "execution_count": null,
   "metadata": {
    "colab": {
     "base_uri": "https://localhost:8080/"
    },
    "id": "TKWplWf4863M",
    "outputId": "45f72ae1-1882-4388-e382-c0fe6af2e5b5"
   },
   "outputs": [
    {
     "name": "stdout",
     "output_type": "stream",
     "text": [
      "Hello Function\n"
     ]
    }
   ],
   "source": [
    "def First():\n",
    "  print(\"Hello Function\")\n",
    "\n",
    "#A function must be defined before it can be used\n",
    "First()\n"
   ]
  },
  {
   "cell_type": "code",
   "execution_count": null,
   "metadata": {
    "colab": {
     "base_uri": "https://localhost:8080/"
    },
    "id": "O23oZJdW9E9L",
    "outputId": "64755bf8-0a37-4a84-d63a-b578c45b4beb"
   },
   "outputs": [
    {
     "name": "stdout",
     "output_type": "stream",
     "text": [
      "Hello Function\n"
     ]
    }
   ],
   "source": [
    "#Instead of calling the function, I can name an element with the name of the function, and call the element\n",
    "def First():\n",
    "  print(\"Hello Function\")\n",
    "\n",
    "a=First\n",
    "a()"
   ]
  },
  {
   "cell_type": "code",
   "execution_count": null,
   "metadata": {
    "colab": {
     "base_uri": "https://localhost:8080/"
    },
    "id": "8mPXdS_g-Uks",
    "outputId": "92b158e6-9c6c-46fe-aa4e-f185e0e8b204"
   },
   "outputs": [
    {
     "name": "stdout",
     "output_type": "stream",
     "text": [
      "6\n"
     ]
    }
   ],
   "source": [
    "#It is possible to use the function,\n",
    "# by entering specific values in it, \n",
    "#and its name is args,\n",
    "# which first can determine what these values are exactly\n",
    "def accept_arg(a,b):\n",
    "   print(a*b)\n",
    "  \n",
    "accept_arg(2,3)\n"
   ]
  },
  {
   "cell_type": "code",
   "execution_count": null,
   "metadata": {
    "colab": {
     "base_uri": "https://localhost:8080/"
    },
    "id": "SFDVQxnp_pK7",
    "outputId": "12d3283c-6fc5-47de-a7bf-c33a4541633d"
   },
   "outputs": [
    {
     "name": "stdout",
     "output_type": "stream",
     "text": [
      "5\n",
      "27\n",
      "31\n"
     ]
    }
   ],
   "source": [
    "#It is possible to make args undefined,\n",
    "# by writing * before the variable, and then it will be list\n",
    "\n",
    "def many_arg(*num):\n",
    "  sum=0\n",
    "  for i in num:\n",
    "    sum+=i\n",
    "  print(sum)\n",
    "\n",
    "many_arg(2,3)\n",
    "many_arg(2,3,4,5,6,7)\n",
    "many_arg(2,3,1,5,3,2,4,2,4,2,3)\n"
   ]
  },
  {
   "cell_type": "code",
   "execution_count": null,
   "metadata": {
    "colab": {
     "base_uri": "https://localhost:8080/"
    },
    "id": "3T3CQGhDA53b",
    "outputId": "9c9d13bd-24e6-4cc7-a03d-865f73e450fb"
   },
   "outputs": [
    {
     "name": "stdout",
     "output_type": "stream",
     "text": [
      "{'one': 1, 'tow': 2, 'three': 3}\n"
     ]
    }
   ],
   "source": [
    "#There are so-called kwargs that send a dictionary instead of a list as variables, and start with **\n",
    "\n",
    "def dic_kwarg(**val):\n",
    "  print(val)\n",
    "\n",
    "dic_kwarg(one=1,tow=2,three=3)"
   ]
  },
  {
   "cell_type": "code",
   "execution_count": null,
   "metadata": {
    "colab": {
     "base_uri": "https://localhost:8080/"
    },
    "id": "MH9S15FaBb8b",
    "outputId": "2a95778f-10cf-4824-febf-a9aac4328183"
   },
   "outputs": [
    {
     "name": "stdout",
     "output_type": "stream",
     "text": [
      "i =  1\n",
      "j =  2\n",
      "args =  (3, 4, 5, 6, 7)\n",
      "kwargs =  {'a': 7, 'w': 9}\n",
      "=======================\n",
      "i =  1\n",
      "j =  2\n",
      "args =  (3, 4, 5)\n",
      "kwargs =  {}\n",
      "=======================\n",
      "i =  1\n",
      "j =  2\n",
      "args =  ()\n",
      "kwargs =  {}\n"
     ]
    }
   ],
   "source": [
    "# Example  for all\n",
    "\n",
    "def all(i,j,*args,**kwargs):\n",
    "  print(\"i = \",i)\n",
    "  print(\"j = \",j)\n",
    "  print(\"args = \",args)\n",
    "  print(\"kwargs = \",kwargs)\n",
    "\n",
    "\n",
    "all(1,2,3,4,5,6,7,a=7,w=9)\n",
    "print(\"=======================\")\n",
    "all(1,2,3,4,5)\n",
    "print(\"=======================\")\n",
    "all(1,2)"
   ]
  },
  {
   "cell_type": "code",
   "execution_count": null,
   "metadata": {
    "colab": {
     "base_uri": "https://localhost:8080/"
    },
    "id": "m-LAk2FbCUf0",
    "outputId": "143b5c63-dbf0-4a82-93b1-8b3147f0f388"
   },
   "outputs": [
    {
     "name": "stdout",
     "output_type": "stream",
     "text": [
      "mohammed 0 \n",
      "mohammed 20 \n",
      "mohammed 22 Yemen\n"
     ]
    }
   ],
   "source": [
    "# another Example \n",
    "\n",
    "def student(name,age=0,country=\"\"):\n",
    "  print(name,age,country)\n",
    "\n",
    "\n",
    "student(name=\"mohammed\")\n",
    "student(name=\"mohammed\",age=20)\n",
    "student(name=\"mohammed\",age=22,country=\"Yemen\")\n"
   ]
  },
  {
   "cell_type": "code",
   "execution_count": null,
   "metadata": {
    "colab": {
     "base_uri": "https://localhost:8080/"
    },
    "id": "PxwQ_2fYEGQv",
    "outputId": "b78147a9-38bd-4637-f6cc-177089697399"
   },
   "outputs": [
    {
     "data": {
      "text/plain": [
       "10"
      ]
     },
     "execution_count": 57,
     "metadata": {},
     "output_type": "execute_result"
    }
   ],
   "source": [
    "# The return command can be used to assign a value to a function\n",
    "\n",
    "def summ(a,b):\n",
    "  return a+b\n",
    "summ(3,7)"
   ]
  },
  {
   "cell_type": "code",
   "execution_count": null,
   "metadata": {
    "colab": {
     "base_uri": "https://localhost:8080/"
    },
    "id": "EvMfKWz6EBLt",
    "outputId": "962a0bee-387d-42af-af35-bc1fe7b8b5d3"
   },
   "outputs": [
    {
     "name": "stdout",
     "output_type": "stream",
     "text": [
      "26\n"
     ]
    }
   ],
   "source": [
    "#Nested functions can be made\n",
    "\n",
    "def add(a,b):\n",
    "  return a+b\n",
    "\n",
    "def poww(a):\n",
    "  return a**2 \n",
    "\n",
    "def sub(a):\n",
    "  return a-10\n",
    "\n",
    "print(sub(poww(add(4,2))))\n"
   ]
  },
  {
   "cell_type": "code",
   "execution_count": null,
   "metadata": {
    "colab": {
     "base_uri": "https://localhost:8080/"
    },
    "id": "cFDVqiO0F-5h",
    "outputId": "257bfba8-dc0a-4a6d-9ccd-8ca8c9cd4ccc"
   },
   "outputs": [
    {
     "name": "stdout",
     "output_type": "stream",
     "text": [
      "16\n",
      "10\n"
     ]
    }
   ],
   "source": [
    "#Lambda is a short and clever use of functions. I mean, I will quickly create a function without doing the capital form.\n",
    "#of the function\n",
    "#Simply write the name of the function powers equal to the length of the elements used x , y after which two colons: after the output\n",
    "#What is it worth?\n",
    "\n",
    "power=lambda x,y:x**y\n",
    "print(power(4,2))\n",
    "\n",
    "add=lambda x,y:x+y\n",
    "print(add(3,7))"
   ]
  },
  {
   "cell_type": "code",
   "execution_count": null,
   "metadata": {
    "colab": {
     "base_uri": "https://localhost:8080/"
    },
    "id": "f0bSluSPGeuQ",
    "outputId": "a7ca4df8-659b-486c-bad3-4775aac6c51d"
   },
   "outputs": [
    {
     "name": "stdout",
     "output_type": "stream",
     "text": [
      "[1, 2, 3, 4, 5]\n"
     ]
    }
   ],
   "source": [
    "#Filter is a way to select certain numbers, based on a specific condition, often the condition is in lambda\n",
    "#I mean, here we said that the list is such and such numbers, then I say that the even numbers are the same, with a filter (a, b)\n",
    "#A: It is set for a period of time, if it is verified, the filter will be activated, if it is not verified, it will not be activated\n",
    "#B: The original list from which he will be taken\n",
    "\n",
    "x_list=[1,2,3,4,5,6,7,8,9]\n",
    "\n",
    "even_number=list(filter(lambda x:x<=5,x_list))\n",
    "print(even_number)"
   ]
  },
  {
   "cell_type": "code",
   "execution_count": null,
   "metadata": {
    "colab": {
     "base_uri": "https://localhost:8080/"
    },
    "id": "-K2sLmGwHgaZ",
    "outputId": "a252c09b-96cf-4779-f87b-8429d57d42c4"
   },
   "outputs": [
    {
     "name": "stdout",
     "output_type": "stream",
     "text": [
      "[1, 4, 9, 16, 25, 36, 49, 64, 81]\n"
     ]
    }
   ],
   "source": [
    "# map Function, it implements a specific function (lambda) on all elements\n",
    "\n",
    "x_list=[1,2,3,4,5,6,7,8,9]\n",
    "pow=list(map(lambda x:x**2,x_list))\n",
    "print(pow)"
   ]
  },
  {
   "cell_type": "code",
   "execution_count": null,
   "metadata": {
    "colab": {
     "base_uri": "https://localhost:8080/"
    },
    "id": "oKrfAvJHCXQf",
    "outputId": "3a9b947a-0fe4-41c6-d0a1-691c78160225"
   },
   "outputs": [
    {
     "name": "stdout",
     "output_type": "stream",
     "text": [
      "1*1=1\n",
      "2*1=2\t2*2=4\n",
      "3*1=3\t3*2=6\t3*3=9\n",
      "4*1=4\t4*2=8\t4*3=12\t4*4=16\n",
      "5*1=5\t5*2=10\t5*3=15\t5*4=20\t5*5=25\n",
      "6*1=6\t6*2=12\t6*3=18\t6*4=24\t6*5=30\t6*6=36\n",
      "7*1=7\t7*2=14\t7*3=21\t7*4=28\t7*5=35\t7*6=42\t7*7=49\n",
      "8*1=8\t8*2=16\t8*3=24\t8*4=32\t8*5=40\t8*6=48\t8*7=56\t8*8=64\n",
      "9*1=9\t9*2=18\t9*3=27\t9*4=36\t9*5=45\t9*6=54\t9*7=63\t9*8=72\t9*9=81\n"
     ]
    }
   ],
   "source": [
    "print (\"\\n\".join([\"\\t\".join([\"%s*%s=%s\" %(x,y,x*y) for y in range(1, x+1)]) for x in range(1, 10)]))\n"
   ]
  },
  {
   "cell_type": "code",
   "execution_count": null,
   "metadata": {
    "id": "HaTR76jRDfi3"
   },
   "outputs": [],
   "source": []
  },
  {
   "cell_type": "markdown",
   "metadata": {
    "id": "lS-vJBSkHPEd"
   },
   "source": [
    "# Class"
   ]
  },
  {
   "cell_type": "markdown",
   "metadata": {
    "id": "8giitv-kHsot"
   },
   "source": [
    "\n",
    "\n",
    "```\n",
    "It is possible to create a new class by typing class, followed by its name, followed by a colon, then variables or functions\n",
    "```\n",
    "\n"
   ]
  },
  {
   "cell_type": "code",
   "execution_count": null,
   "metadata": {
    "colab": {
     "base_uri": "https://localhost:8080/"
    },
    "id": "lqi2hFILHRfQ",
    "outputId": "8d55c7dd-0d18-454f-bbba-873ccb78f199"
   },
   "outputs": [
    {
     "name": "stdout",
     "output_type": "stream",
     "text": [
      "15\n",
      "8\n",
      "6\n",
      "720\n"
     ]
    }
   ],
   "source": [
    "class car:\n",
    "  length=15\n",
    "  width=8\n",
    "  height=6\n",
    "  color=\"white\"\n",
    "  volume=length*width*height\n",
    "\n",
    "c=car()\n",
    "print(c.length)\n",
    "print(c.width)\n",
    "print(c.height)\n",
    "\n",
    "print(c.volume)\n"
   ]
  },
  {
   "cell_type": "markdown",
   "metadata": {
    "id": "e8YqnPSoIxst"
   },
   "source": [
    "\n",
    "\n",
    "```\n",
    "#And if the class is saved in a file with the extension py, I can make it call and use all the \n",
    "functions and variables in it\n",
    "\n",
    "from myclasses import car\n",
    "\n",
    "Or it is possible to recall all the classes saved in it\n",
    "\n",
    "from myclasses import *\n",
    "```\n",
    "\n"
   ]
  },
  {
   "cell_type": "markdown",
   "metadata": {
    "id": "00SYfKZeJaM2"
   },
   "source": [
    "\n",
    "\n",
    "```\n",
    "In general, there are two types of variables in any class\n",
    "The Class Variable which is the variable whose value is heard in all copies that are taken from it, so if it is changed from\n",
    "One of the copies, its value changes in the original, and therefore the rest of the copies see the change\n",
    "\n",
    "\n",
    "The Instance variable , which is the variable whose value is in each version, is its own and does not affect me\n",
    "Its original value or its value in the rest of the copies\n",
    "```\n",
    "\n"
   ]
  },
  {
   "cell_type": "code",
   "execution_count": null,
   "metadata": {
    "colab": {
     "base_uri": "https://localhost:8080/"
    },
    "id": "Wwb2Kib3IIAQ",
    "outputId": "4d7f560b-3993-4886-bb36-81fbc2a4990f"
   },
   "outputs": [
    {
     "name": "stdout",
     "output_type": "stream",
     "text": [
      "blue\n",
      "blue\n"
     ]
    }
   ],
   "source": [
    "#class Variable\n",
    "\n",
    "class car():\n",
    "  color=\"blue\"\n",
    "\n",
    "volvo=car \n",
    "nissan=car\n",
    "print(volvo.color)\n",
    "print(nissan.color)"
   ]
  },
  {
   "cell_type": "code",
   "execution_count": null,
   "metadata": {
    "colab": {
     "base_uri": "https://localhost:8080/"
    },
    "id": "G3TiOFB_KEgY",
    "outputId": "1165e10f-cbea-47d6-d360-3b61232b6106"
   },
   "outputs": [
    {
     "name": "stdout",
     "output_type": "stream",
     "text": [
      "White\n",
      "green\n"
     ]
    }
   ],
   "source": [
    "#instance variable\n",
    "\n",
    "class car():\n",
    "\n",
    "  def __init__(self,color):\n",
    "    self.color=color\n",
    "\n",
    "volvo=car(\"White\")\n",
    "nissan=car(\"green\")\n",
    "print(volvo.color)\n",
    "print(nissan.color)\n"
   ]
  },
  {
   "cell_type": "markdown",
   "metadata": {
    "id": "DTHaImjLMXme"
   },
   "source": [
    "\n",
    "\n",
    "```\n",
    "Ok, if I want to make a definition of a method:\n",
    "The methods are the same as the functions used in normal programming\n",
    "Write the name of the root function, and it contains an element that will be used inside the function. Do the command you want to print\n",
    "From the init, I specify an element to be entered to be used in the function. In the function, I have to write self. roots\n",
    "You will be equal to this\n",
    "Finally, end the function after I have entered the values```\n",
    "\n"
   ]
  },
  {
   "cell_type": "code",
   "execution_count": null,
   "metadata": {
    "colab": {
     "base_uri": "https://localhost:8080/"
    },
    "id": "nOfbfLUkKlbq",
    "outputId": "1be66e18-16c7-4179-999c-9e7a897a5f92"
   },
   "outputs": [
    {
     "name": "stdout",
     "output_type": "stream",
     "text": [
      "9\n",
      "8\n"
     ]
    }
   ],
   "source": [
    "class d:\n",
    "  def __init__(self,p2,p3):\n",
    "    self.power2=p2**2\n",
    "    self.power3=p3**3\n",
    "  def root(self):\n",
    "    print(self.power2)\n",
    "    print(self.power3)\n",
    "\n",
    "a=d(3,2)\n",
    "a.root()\n"
   ]
  },
  {
   "cell_type": "code",
   "execution_count": null,
   "metadata": {
    "id": "TXIznRLxM_zZ"
   },
   "outputs": [],
   "source": []
  }
 ],
 "metadata": {
  "colab": {
   "collapsed_sections": [
    "HFnyQ7uSHsCE",
    "72hkxA9bJWAa",
    "2GHAgTYDNLR3",
    "Qm7Whs3uNOyh",
    "RSNyOG--O5_5",
    "aTdM8yhP0Ld_",
    "cuQpjLTE3x81",
    "aVEo3K1Q8Y3R",
    "lS-vJBSkHPEd"
   ],
   "provenance": []
  },
  "kernelspec": {
   "display_name": "Python 3 (ipykernel)",
   "language": "python",
   "name": "python3"
  },
  "language_info": {
   "codemirror_mode": {
    "name": "ipython",
    "version": 3
   },
   "file_extension": ".py",
   "mimetype": "text/x-python",
   "name": "python",
   "nbconvert_exporter": "python",
   "pygments_lexer": "ipython3",
   "version": "3.9.7"
  }
 },
 "nbformat": 4,
 "nbformat_minor": 1
}
