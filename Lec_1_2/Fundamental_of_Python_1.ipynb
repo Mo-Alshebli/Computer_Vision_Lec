{
 "cells": [
  {
   "cell_type": "markdown",
   "metadata": {},
   "source": [
    "# الرؤية الحاسوبية  Computer vision"
   ]
  },
  {
   "cell_type": "markdown",
   "metadata": {},
   "source": [
    " ### هي احدى مجالات علم الحاسوب التي  تضمن طرق تحصيل ومعالجة وتحليل وفهم الصور وتهدف الرؤية  الحاسوبية الى بنا ء تطبيقات قادرة على فهم محتوى الصور كما يفهمهما الانسان بهدف الاستفادة منها في تطبيقات مختلفة وتعتبر احدى المجالات التي احدثت ثورة في التطبيقات  الهندسية الحديثة الروبوتية منها والصناعية"
   ]
  },
  {
   "cell_type": "markdown",
   "metadata": {},
   "source": [
    "# تطبيقات الرؤية الحاسوبية"
   ]
  },
  {
   "cell_type": "markdown",
   "metadata": {},
   "source": [
    "### 1- التعرّف على الوجوه\n",
    "### 2- المركبات ذاتية القيادة\n",
    "### 3-الاستخدمات الطبية وتحليل الصور الطبية\n",
    "### 4- عمليات التحكم الصناعية والروبوتات الصناعية \n",
    "### 5- كشف الاحداث والاشخاص مثل المراقبة المرئية\n"
   ]
  },
  {
   "cell_type": "markdown",
   "metadata": {},
   "source": [
    "# المهام الرئيسية للرؤية الحاسوبية "
   ]
  },
  {
   "cell_type": "markdown",
   "metadata": {},
   "source": [
    "* Recognition\n",
    "* Identification\n",
    "* Detection"
   ]
  },
  {
   "cell_type": "markdown",
   "metadata": {},
   "source": [
    "# Digital Image Processing معالجة الصور الرقمية "
   ]
  },
  {
   "cell_type": "markdown",
   "metadata": {},
   "source": [
    "* استحصال الصورة \n",
    "* المعالجة المبدئية\n",
    "* تقطيع الصورة \n",
    "* استخلاص المميزات \n",
    "* تصنيف المميزات \n",
    "* فهم الصورة"
   ]
  },
  {
   "cell_type": "code",
   "execution_count": null,
   "metadata": {},
   "outputs": [],
   "source": []
  },
  {
   "cell_type": "code",
   "execution_count": null,
   "metadata": {},
   "outputs": [],
   "source": []
  },
  {
   "cell_type": "markdown",
   "metadata": {
    "id": "QHCkWtqjcfIq"
   },
   "source": [
    "# Python  introduction "
   ]
  },
  {
   "cell_type": "markdown",
   "metadata": {
    "id": "9HIrDmmotNqX"
   },
   "source": [
    "## What is Python :\n"
   ]
  },
  {
   "cell_type": "markdown",
   "metadata": {
    "id": "0YTLplVicz8y"
   },
   "source": [
    "It is a high-level programming language that is characterized by its simplicity of writing and reading, easy to understand, and uses the object-oriented programming method. It is open source and extensible."
   ]
  },
  {
   "cell_type": "markdown",
   "metadata": {
    "id": "LjekW3WQtaVQ"
   },
   "source": [
    "## It is used for"
   ]
  },
  {
   "cell_type": "markdown",
   "metadata": {
    "id": "mMCMLHjOtdBx"
   },
   "source": [
    "* web development (server-side),\n",
    "* software development,\n",
    "* Artificial intelligence \n",
    "* GUI"
   ]
  },
  {
   "cell_type": "markdown",
   "metadata": {
    "id": "IjAFyapJtcew"
   },
   "source": [
    "## Why Python?"
   ]
  },
  {
   "cell_type": "markdown",
   "metadata": {
    "id": "O7SQdpvlu0C2"
   },
   "source": [
    "* Python works on different platforms (Windows, Mac, Linux, Raspberry Pi, etc).\n",
    "* Python has a simple syntax similar to the English language.\n",
    "* Python has syntax that allows developers to write programs with fewer lines than some other programming languages.\n",
    "* Python runs on an interpreter system, meaning that code can be executed as soon as it is written. This means that prototyping can be very quick.\n",
    "* Python can be treated in a procedural way, an object-oriented way or a functional way."
   ]
  },
  {
   "cell_type": "markdown",
   "metadata": {
    "id": "JsUrqXyuuz6L"
   },
   "source": [
    "## Python Syntax compared to other programming languages"
   ]
  },
  {
   "cell_type": "markdown",
   "metadata": {
    "id": "OI0nkBIuuz2v"
   },
   "source": [
    "* Python was designed for readability, and has some similarities to the English language with influence from mathematics.\n",
    "* Python uses new lines to complete a command, as opposed to other programming languages which often use semicolons or parentheses.\n",
    "* Python relies on indentation, using whitespace, to define scope; such as the scope of loops, functions and classes. Other programming languages often use curly-brackets for this purpose."
   ]
  },
  {
   "cell_type": "markdown",
   "metadata": {
    "id": "brQG8g01chWa"
   },
   "source": [
    "# Bais Syntax of Python\n"
   ]
  },
  {
   "cell_type": "markdown",
   "metadata": {
    "id": "w0JdeWAbzMgv"
   },
   "source": [
    "## **print :** in python is \n"
   ]
  },
  {
   "cell_type": "code",
   "execution_count": null,
   "metadata": {
    "colab": {
     "base_uri": "https://localhost:8080/"
    },
    "id": "abG22l__1E3C",
    "outputId": "39bbdefa-61ce-4b36-d643-2dc5434f894c"
   },
   "outputs": [
    {
     "name": "stdout",
     "output_type": "stream",
     "text": [
      "Hello World !\n"
     ]
    }
   ],
   "source": [
    "print(\"Hello World !\")"
   ]
  },
  {
   "cell_type": "markdown",
   "metadata": {
    "id": "B1ZKsgAp1p5J"
   },
   "source": [
    "## **comment :** is use hashi  #   to comment  the text and when you run the code there is no output"
   ]
  },
  {
   "cell_type": "markdown",
   "metadata": {
    "id": "nAlrhs7cCSnH"
   },
   "source": [
    "# variables"
   ]
  },
  {
   "cell_type": "code",
   "execution_count": null,
   "metadata": {
    "id": "2PXqsCsP1k__"
   },
   "outputs": [],
   "source": [
    "# this for single  line we use it"
   ]
  },
  {
   "cell_type": "markdown",
   "metadata": {
    "id": "A2ObD3bG33CX"
   },
   "source": [
    "## **variables :** They are an important programming concept. They are symbols that indicate the data that you use in your program"
   ]
  },
  {
   "cell_type": "code",
   "execution_count": null,
   "metadata": {
    "colab": {
     "base_uri": "https://localhost:8080/"
    },
    "id": "6d9LcuMp4_a6",
    "outputId": "a2ac5bd8-e71a-4cc5-cb30-964c33e70e18"
   },
   "outputs": [
    {
     "name": "stdout",
     "output_type": "stream",
     "text": [
      "32292\n",
      "32000\n",
      "Hello, World!\n",
      "['item_1', 'item_2', 'item_3', 'item_4']\n"
     ]
    }
   ],
   "source": [
    "#if we have this number 32292 and we want to put it in varible \n",
    "mynum=32292\n",
    "print(mynum)\n",
    "#the variable make the mathematical  operation easy \n",
    "print(mynum-292)\n",
    "#the variable can contain any type of data \n",
    "my_string = 'Hello, World!'\n",
    "print(my_string)\n",
    "my_flt = 45.06\n",
    "my_bool = 5 > 9 # True أو False القيم المنطقية ستعيد إما\n",
    "my_list = ['item_1', 'item_2', 'item_3', 'item_4']\n",
    "my_tuple = ('one', 'two', 'three')\n",
    "my_dict = {'letter': 'g', 'number': 'seven', 'symbol': '&'}\n",
    "print(my_list)"
   ]
  },
  {
   "cell_type": "markdown",
   "metadata": {
    "id": "mQzxY9-R8O2e"
   },
   "source": [
    "###Variable naming rules\n",
    "* Variable names must be one word (no spaces)\n",
    "* Variable names must consist of letters, numbers, and underscores (_) only\n",
    "* Variable names should not start with a number"
   ]
  },
  {
   "cell_type": "markdown",
   "metadata": {
    "id": "B7eWoR_W89u3"
   },
   "source": [
    "![Screenshot 2022-12-11 235119.png](data:image/png;base64,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)"
   ]
  },
  {
   "cell_type": "markdown",
   "metadata": {
    "id": "1asZ7nQM9fCI"
   },
   "source": [
    "![Screenshot 2022-12-11 235158.png](data:image/png;base64,iVBORw0KGgoAAAANSUhEUgAAAkUAAADZCAYAAAAuRUTQAAAAAXNSR0IArs4c6QAAAARnQU1BAACxjwv8YQUAAAAJcEhZcwAADsMAAA7DAcdvqGQAAGmlSURBVHhe7d0HXNTm/8Dxzx17KiAICCiCDPfes1r3rtpqra1dtnZaO7TL0Vq1duivVavVtlarVltHHX/3xC1uxIGbJSAoe+efg0MREUFRQL/v1+uUe3LJJbl8k2+ePHmiqf7SLAUhhBBCiCecVv+/EEIIIcQTTZIiIYQQQgiVJEVCCCGEECpJioQQQgghVJIUCSGEEEKoJCkSQgghhFBJUiSEEEIIoZKkSAghhBBCJUmREEIIIYRKkiIhhBBCCJUkRUIIIYQQKkmK8qOx4vlXO/BjCytZQUIIIcQTouwe803tGDqkNeMamugLiosBdTu15N0WVen40tOM9TLUl9+LIXVbNOLXga6Y60tKHRNjnE00+jf3oCaG/Qd2ZPWoOjTNPYppRT55vx2feBnrC3IUdvm1VPLy5tuhPtTVl4jSS1uhKlM+78PSgS7Y6ssK/K015rT0NH/AHYsGa5NHuWvSUN7JiqqFDA1R9pXMdl0QdZu3MsZa/+7+POq4MaKmk9ljV3FQNpfH0IXvJ/Tiw3aVcbMo7kXI4NjBMxyMTOX6yRPMP5uuLy+IER2H9Gbeq/Vo7GKuhlYppLHhnRH9WfZRXdqa3nvvb9qwAR90rIK7lwdd3Q1ySuk5qBWD6lTjhXfbMLR8znQKv/zmjVvzz+g2dKtennL6MlFalef9N1rQJCOB5PIW2GWVFfBb62pY3+jO9E+681NRa1l1477UUk22zajWojXLJndh1B2Jd3Eypm2fjqx4w5N63nWZ8/kz/PqGB9UkMXoCPMLtupC0lWowe2J/futTUZ27InjUcaOeFI8a1Z2fW9jRTo2fueN7PLR1UlLK5rKkp5OWqZv1ZK6GpmaXFaPMqHO8N20zf/nHqvvOwuwlM0lRs/T7SoZMLall97B/Bg22jerwrLcFVh7VebGJhb787pKvJ5Ok+yNDg7F5TlKUwg6/c5xNTOHirhMsv67oywu//MkJaRT/LyYejjSuxqZjW7kilWt485yLbju922+tobynM7UsdfFiiEvrZkwu9M7SkLbPPc3HbarzwtvdmPZsNZzKOdG9g3Ous/jioMXRyihrngy96/N5jypUa9KUsc9Uw93cmApu9lQtbE2qKMMe1XZdWGY806sWNS0s8Glfmz43Tzbv5VHHjSHtBrRisLczbZ9twxuN7bEwtMDDw/oBa7hKFwP7uj3G6v8uJXRVmPUZWT2JjeeS9WV5GVC7iTf1bdM4szOQTdE5B+fiYeheh0WftKZbY296NzQl5kAwJ1P0A+8ixakyg2tacv1UAL8ejuPuc6QGmVc9fn+7Gqbn0ug2vBtfti9P3OErHE8s3uXILSkklPNaa9xDD/HOf1HZCU9B7Fx4sVVFLKODmPbXJS7pi5OvXWXdvjOsPxhLipG63BnZ5YVdfiXJis6d3KhonMTJDec4oh9flEIae1561geH62Ec3H2C3w9cJ1otvvO31m3TdZnzflOaGIXx31GoW8+FGrUrYnviLDtuJs93k8nl8FRq1qtA/IaN9F8Ujlu5SGb9fobAwlTUFop6YlCvOYtGNaLx9SusPRzMJW15vK4d5q1pBziYnMDRf4+yIvbhxaAoJR7Zdl1Y6Zw8HomVuzlX/t3BdxcLu9E/6ri5xMxNYVhVsyJi5SZeXXIJTXowPy+9Qqj+04+D4k14H5iWah3aM+vVGjilF5SFpBKdkN/RVEulapV5vX1l2ljf76JZ8XK/2lQ3142vwdTRl/cGV75H5q1w/VoiCepfGemZ6qaqo8HayYW3+zdl2vDWTOrtTmPdZSutI6NerU/tKt689Voj2rmYYmRjRy1HNcN4qFLZtnwTz65IplP7agysdo9rwWGxROSbsCjEJtry5rgB/Nktp6I3v+W/i/hoLsaonzDQFq4STjwCWpwru6nbanNmvNuGSd3dqKWrMVEi+WPaUjp/uZvNCVpssn6ve/3WKRzfeoKdwXGEHTrO4ouFy3p1tbPvfLGUV9fFkJkSzi+/H2dbcjEmKBpbXuulnkmb2tCymy+ttbp42EDvXy8SVsGe6nGhLI0qcMsVZU7Jb9eFlnyVyd9t4Kf4ikU6fj3yuEm9yqRJa3h/fzKePtbEHAnh7GN2HlGKaop0NUQN+LKXJ65mCuHHTrLsQpp+WF4K5byq0c2dXDVFhjTt0Yk/Xq9P69qedGphT7nzl9l1Lf+NV2tlSQ2TdCJS8/yixmoQDXYiaNYSBq6MpXZDNzxdTUnxC0LdDrLpruO+2ZmPK4SxPCg7eUs3sWdAG0cMLp5h3tHUrPYKvw1rSCvvilStVAFvHw+6NzElVJ3fv84pNHK9we8/bGHy8XgMTx/lq0OJ6lLpmTrwwZtPMeopG7SnwgqsQdJW8ODnzxpS9fCFW/N3F7oasMVfPsUzDarSurkHrQwi2HQqgXxHU4Ohd7cqOKnBumajelatL9axbtOcyS0dsLNIYt+2MMLUstuXPz77gxpLevRuyvjnvPAIDdb/Fhm41PSmhUMi+9YG4V/M+xZRVOb0G9KVn4bWoXk1B6o4qdtq9ap09lUI2h/K/mtaOr3cla+7OaEcPcNW9ew4v99aV4O44cxVzm4+yYqQaDbsCmTF/muEKca07aGe6HTSqO+jC7x0qmRoqNyiNUs+eYrXOrjicT2ETVdSb8XFA0liz4k4qlXNYNOve1mSUyNk5sp3n3dUTxLSObg5lODsUlHmlYbtWj3Jb9GKv56zYNfuSK7rS/NXtONXbo8+brJrj+a91YDa6ZdZcCIx+6OPifutTilmukaPnZj1al1qqhnyXTcDE3MaVzbHWv3E4ZA4ctcQal1qMqpnJUwTYwk6E8rFVHv6PeNJFf3w25ny3NAe/K+Pg/59LhoDjAxM8GhZm9fqW5AYo27uRjbU8b11l5tl62aMbOxIzXout6YfGktkzoyridWLnV0pb5DJjeCLbNp2hsDYTAztq9KnsSnXzxxm4LhdLFXLrl+6wrbQDCz1o6Ipx7B3nubl+k54etfhkw8a0vauv5IZQ15oTltnZ1o2sdKX5XJzfak0dox8sR7VTdK4eimU48GZVO3YgMHZp0l3SkvkWnz+Z87xp8O5oK58baUq9M5phJ17+bOY0nNoZ77u5UOtyu4MHOCNT1Z5Kheu3SN7E4+OiSu9WztgoUbTtXNBrNuq21bVbdyjOs/X123zZvi6Wam7bCu8vPX35NzxW+uoZ9pBIazJqm1RDwZ16zFlWHWautXkoz5VcHGvSPO7bGo3VfDlqxe8cDRUN1dzBzoNasqLd7SvMMSzcnk879b2Rz1h6T+wDT91tsNQa8c77/dgoRrnurYiurPq97/ZzXYzq1vjW9viaWeIxt6ehlntRsRjoTRs18ZV+XSID27VqtD9jv2sBusK5WlcIbsVU9GOX3k88rjRULFKBSoaGuJUxR7HrAk8PkpFUmRarylfdbXi7P+tV5OFg1zI91hsydDhffjtk2Z0N1IPzOFxuTJvAxq38sAz8xI/jlhMr4mr6fXRnzSaeJKL+k/czgofJ1OMTY2yfvTbpISwOSCNSrXr8HLf+rS0TeNaijHOlW41Tk6PTc6qZjV2z7Wxp9wgOEYfUamhrNl8gYtqAm1hksL+NftYfFqXTWeSnpY7f799mXQbm22jerxQ3YSIk+c4rk7P0MmbF1vd7Sb3DKIT0tSwNcE7d4KWJc+0q1TlqcoZ7J+/hKfGrua5sYtp/OZafo65y/lEZhpJd6moyww+weQNV0nT2NK6rWP2Osy9/CpD77q827K8ujrPselMAkZVqzGoqi6BujOhFSVIv61eStSoW1EMq5b4sy1c9+tkkJikC8TrLNh4Sf3XEBe38vn+1lnMXPn+20Es7qym4Fon3ni2Ls0qGHA1NpGYFHUbK2dLzbsl4Fm0+LbyxDfmJOMnrWO+Ll4sXHm2i32unZQGtzbtWDC2G580yDlJ0Z21tmDTjK68rU7fsEZt3upYFTcz9SSkQS0G1bFFm5Ss394MqNe7E/M/68ib1fSRfzWIJUfjUAysqeb5sC9hi0emNGzXmSnE6r7LyP7Ok9by1Zg2th/TB7lhXuTjV24lETeZBG4+wV71pN6gYgUalZKqleJSChbHlL6tXLE1NMXZqxqvPlUBwzQD7N1scb65rRlSq0UDXqhlTtLZy2zUHaxjk4jLNMCqvIm6EGrWbaae7Rk70buXI7pN3LOyI/3a12HS8C4sHOikfktumaRlaChfpw6ja+ZtWxPP71P/4eUZO/lzzX4W+oUSk3F74pB8JIDVl3Q1SBVoWj8nWUogODoDk3IWVNIk8s+STTz/v6NcsfHigw+7MbyeOfFBJ5i7N6eWJO8yqctQqRpf96tK+RtBTP1xC6M2hJGqzrlPDfs8858jldVrTxGkbrnGVdQEzTZnSe5cX1pzY3UaptRuVz3rlnzrCjZ0bOTNJ0PasfiThnTSHyNuSSLiRnZIZNFY0KFBBXXZdG/S2fPvPv4Ly6BC1YrUyvpA7uU3oXf7qjjGnOW777by9e4IEtUE6qluVXDTaLFUf7sbWeOIEqfEsWjRJgbPOUVc5QZ8+3V3hnhpCd9/gJ+P6C4KaFAuXuGomjybW5jot8Pcv7XuIxYMeKk5nWxi2X8oHtumPrSwVYgKjeba9SDm7olB0ZpTySnnLsb8GFPP1VKNRS1GyVf57i/1gJBpSCVvJ7yzhuva6HkwqrsbVskR7DqafdlaW74KXw32oULoFTbFmDLgqSrYZ0aze3caz7V0xTozljNndLcVaHF29+HdturZb2QwG3VBo6NJJ+BoGNcwwrpcQfMnypTSsF2nh/LH9gjSdCetdV1wzzmemZRj8KC6NLJI4cTRcBKLfPzKrWTiRqtEs+t0PIqZKXZ3HDvKNk31l2bdpargUdFdS+3ItL4uty4hFSuFxMObafO/8+rGl8OQdkN681M7W11okBwXzw1d1p/DxAwHKyN1mJ4Sxb9fr+TL87lqQqo2YMXoupjvXMNTf4brSuj48jP82Kp4et9RUhK4HJVJxUpWGJ7cTqspp4nVD7udIc36d2Nm14rqbv0+JZ1jwnubWXhbzZA5r3/Un/ccTjP8o73sqqmeVYysgU1iPNcS1bMfAxPsbEzIVOetkzpvEXdd/jSuR6Rg5GDJbR0BxJ9hzIht/JMr7xIlyNSJSWO60ENXB5+vJA4vWMHgzXHq33f5rTNSuBaTiqGVJeX01fTpiXHq2Tc4Vspk23f/MjIgzw+u61BU3UZCUzTU69+L+V3tb8VdEaTrtsskA8rZmWGaEsfFKLB3tMKisHlO8iWmjd7A7GK7o0iUCiW1XefQ2vPFuG4853K/fQfld/xSlYq4UUg6uZO+U05xWV/yOCgFNUXp7F21juen7Wbd4WCCwoNZvjyQK7mTlCxJBPqd5LC6IeZIT0rJv5GwjrohR4WEsnvnHsYvvHj7BqV+59YlO5mvZrrp6qZkamVFxQrWt15ZCVEGCVERHN5/mJk/bea7XAmRTvr58+wMyR0I6WzZeoqTt31RBvHhl1i98Qxn4/JUy2bJu0yZXD0fxpXEDDQmFlRWEyJT9ezl0P6QuyREOuns2XGRS3dccsyZ9t2yDnX5Yq4RePgEc2fvY/Edl8oyiU/JNW5qGsnqW0Nzy+x1pCZEhhmx7Nl1RU2IdO5c/oTEdDVsjCiflRBlqp/IkcaV3adYcbdZE4+WrmPP99vT2TCYZRvPE5w39jISCNrvz6+79A3o893WVbpEuYJV1oEjPS6Oa+p0DM2tqKLbjuOvsud03h9cS72eXfjnFTd1O8/k8Krd+pi8G3WbPHeK1Sdj7/hM1nap27Hr3phkf6eFQQqXzkTkusyeQUzgKdafS7ht/PS4q2xbeYglkhA9Xkpsu84l8xr/HIpRt9zbKYlhrN92hai7jVrg8avk4uaWDG5cOsMfK84/VgmRTimoKcqf1qocXZtXpa4mjlNXYjh9OYbjceqmZVKOQX2r43o2kPm6zhWdnej7VCUswm4Qk5bExdAkUlITOHwpsYBEIoch1Wq40M7dliq2RiRFx3I1KZXo8Ou3vi9fursK2jDnFRfOz/uXodtvbbJaK1te6FGTWtHn+edgOHtvbvWGeLo70KSOCzU11/E/c+3OZTp1gpmH44jVmFC3ljONna2pZBrDgpWX737bo8aKwW93Y1T16/y+JApXxwT8jkXkmrYlndpWo5EmkYi0dHXZYolUE5yQyzcIuiPxzE1DeTcHmmdcZ11IihpWuu4O3Ohd055KhslcirjOqYAwtueJ6uzl98Xt7DGmHUjCoZoTLSuXx8XiBqv3aunxtCWn9l1g/dmEQvw+4lEwrdeaja9b8PeY9fwcodtmzGns6UDL+g5w+iIbA6PyjYXs37oGniGnmHcomaq13WjibkLClQj8DoWyP9WMNrUd8bazxD7pCpO3R+fZKetqI5/huasb9bWtOrpLu+WoZ2uJb6cWvF1Lw+kTl9m19zz71f3A7jDdtqjGbU1PnvPJ5Ih/CP5xlrRrWonqZmlcCokhXFOOOm6GRF8MZcXeKOLsXHmvvxNXN59g8RnddpczPgSq2/DuUzcIlXzosVNy2/Ut2gqe/PJpa+qFHeaXYDMqRwbjd/E6J87Fqtucblt35IV2FdFGq8et9MIev0oubryb1+HNStdZ7RfMlqxpPn5KbVJ0izEtG9py1f8qkdVq8XXzeKbNO/+I+0YwoG77prznDVfVk4pylVxo7FUOk+hAPvvcj5VJj3BmNOV5/dUG1M3QBY0p7r6VqVHBgKg9G+k7+zLRpWJ9ibJDi2+fHiyuc5Hnxh4lUF/6aOh27v14nf15quANqdWoFu/2rU3d6H08o7t07OlMi+thrIm355OXqhD8zwH+kn6FxF2VzHatreTNDwOcyLiWApZ21KvtREXjWDb9tJL3DiermZodz3ilsPxYKq17N6Zr5FFG7YorYnIhcfMwlcIerXPT3ar/NFNeqEfHqnZ06lKDRtVcaaC5wpJTSTy647wGK+fKDOjoSyP1TKOynSkGiSEsmL6DuVfzuyz2EGmM8GlQg/4tqlCjsh0O5hoSzh3i85m6XkxLy/oSZYdCaiV3Xm5SnoTD59kT9yi3EgO8G/rwVG1XWla2ora3Mx0aVOOlZ5rzZvsquGnDWTDnAHsd6jDn/dYMaGxPnYa16VHLhWbe6ezbHk7OebIQtyuZ7VpjUp7OT9fh6VrOVKtkhaVhMoGrNvPB1hsk654b9mFn3utYlUZu7gx8yp2ate2xPBzEriL1pC5x8zCV8qTIgCq+Hjztbc6NY0dZeNmMOtZXmbfoNMce4iMx7qQQfeUK//lHoslI4MrpM8z+fR/zrtyt0vRhSuW4/1n2hCahiY/m2L6DjPvjLIeyZqW0rC9RlqQkWtBFTfjbN6tCY0cTXGzLUbdqBRrWqEz/tt50soxm46WCepi/XxmEpFrRpYEzrpXs8XaviLea6DtZG5EZc5F507fw/bl09eTakZ5NnbGNv8T8tVFU9DJWDzQH+P1ycXVQJx5HJbFdK4kxrPO7QERKKvHhIWxe5scnO2LIeqySoSUtm3tQu3wS+1adIMi2Ajbnj/Dd1mtZjxkpPImbh6kMXT4L56yixdpEIbbAtjBPOllfoqhM6flyd75qZUvee3TSY4JZuXgnY/cXtYq/sLRUa1yfjzu6UbWclviISI4eP8fSrSEcv7ndarIeypl1GSBKwdJES2JKxmPZnkEUp5Lcru/i5uWzeDKNDbBOy6BIlUQ3Sdw8LGUgKRJCPHzGNG1Tj2HtXKlsYYiSEkuA/wl+XXsl105WiLJGtmtRNJIUCSGEEEKoHrMOuoUQQggh7o8kRUIIIYQQKkmKhBBCCCFUkhQJIYQQQqgkKRJCCCGEUElSJIQQQgihkqRICCGEEEIlSZEQQgghhEqSIiGEEEIIlSRFQgghhBAqjaLS/y3EE6fG0NlZ/wf8/nrW/0I8iSQOhMiOA6kpEkIIIYRQSVIkhBBCCKGSpEgIIYQQQiVJkRBCCCGEShpaCyGEEEKopKZIPNF0dxvk3HkjxJNK4kAIuftMCCGEEOImSYqEEEIIIVSSFInilX6ZwFX+BCRl6guEEEKIskGSIlF8lHPs/qoNzT57i+eWXUZa8AshhChLJCkSxSfzBPt+6cLLU79gsGkasfpiIYQQoix4jJKiSE7NG8oH/sV8KE47yqqph4jIehNH6KbhvLg+7D5qQdKIP/MTY7dF6t+XYkoIR8csZ3uG/n1haRxx67yAqR/NYWV4HCn64tJM96wned6TeNJJHAiRHQePT1KUvo1V4+Yxe20A0fqiB5dK5Jph9Jq3k726BCFzP+sm/cqC5f6cLWpWpOxl+bufsjQyWV9QemUcGcWAyWeJKOoyamxxb9eBBvVfYfbw+jjoi0szuRVZCIkDIXQev1vyUwywsDTFQP/2wRliXt4Ww9BUUnQJgtaGco4GaDVqjpP9gcLTWGBhUzZWt5KaQnxGDJEJRWwsrXHDyfwSBxcv56/LqfrC0k3OkIWQOBBC5/GqKTJww7W5lhtpGZjqix6cFtNydrjfuD0FMnB3pIqaGBWNEUbmkJCQwq1UI42UrGyrdDGo4EKj9BgiipoU5bCyppxJkVdQiZAzZCEkDoTQebxqijSOOHtZkBEVW4yXz9QEoaIHTVKDORetu37mSuWa1tkDiswRp2omhEdcV1MhnThC1/fD+9nfWRdX1MY790EJ5/TqM4W6JKYxU5Ma/d9FY4S1Q0WMMpzxqGCkLxNCCCHKhsfo8pkNjm62pF+9nicpiify0Bym7gzhVmueJGJOL2Th+B/4ceMZgtMLyBQsHHA0SCG5oM/kplzj0sZPGPLpMrYWlOwowZzd5s+VG+EEJxVm2vGEbzrG+fuqWEonbvsrdOz7F6sSc01ATZTOrf6YV8evYlvueTU0xazQFT2550uLiZkl2jw1a0IIIURZ8BglReY4Vq2C4aZznEzXFxHJ6bltaNHgNUZ0HcWnQdn3Q2UGfcbLDZ/n+TEj+aBjAzx7jWPs0aj875aysKeCQWEvIyUTsbY/nTt+y/yJL9L17X/YnV0tpLLEwdVR/7dK40ub8bs4tnAkrzoY6gvvRiEtcBSvdZnHyqwaqzyS9vD76otqqnc3WgyMjLFOC+TQlZyl1M3rILr3mMLcMYPokntebT2oalyY2qt7zJcQQghRhjxGSZEhlq7etImI1jcQziTJ/0OGv26G9fTFzO63knmrA0nI+qg7jt9uYcvZ85z1+4DPTL5nXMteNBz3J9M3HGLPxRCCc3pkNnDEwfEEwdd0DYdNsLYp4PJZyn/MGdaQly7EknD2PYasH8Iz3+8jXF+LYmSU55KSkStVr/+PN9de4mYed5toTs+sg89fF8hMiiU6fT/bAuP1w25JP/Yj7wdEFfBjajGv25cBFrs5fO5GdlHqOhYMq8mzZyKICHiXV5eO5bOtUdnDNMYYGxdU23P3+TJ0rU6/rL/KBmlgKoTEgRA6j1dDa5XWqQb11QN2dgPhM2yfs5bgOXPZNbw7ndq7E6O+X56ooK3yDjPfbEc7T3c8W4xl1E8T+KLeAU6MfZG3OzWgea2PmXhJX++iscCydjCxibppmmBlU0BrG5O+vHdyPB9XscS44kCGjfUiZfSbdPrngpr0mGBf2QOT3LlG2h6Wj5pOqHU5NaXTSSXGrz8uo3ZwTfc2ZRMrP/aha9NKmNTsS/+6/gSF5d8PU8qOY+xJKyCRMfHBt28mJkb6e/OijvBn32d4p5o99tU/Z/TvluzeeIww3TADVyq55q53uv/5Ku2kgakQEgdC6OhiwGCsSv++7DOO5eKSCax2bkjF0PWcWLeR5SfgXJIBvo4RRE5byYKrqURoMlEu7yDQbz5r/hjF5x//yd+OI5jQO5I9Zn1o17MdrZySuHjgADcit7N9qi02I/rQoTzEB8xl2vUejG7hrE9kblGu/sWsUa8w9vN3eXHEz8xeE0EyntQd/iJDqphDzHqmLUjG2dyP5X4RJGz+kFEz3DFp7IzNgdWcj/iLn4YuI7JTPypfOURcwG9MXRzHhYoGxMUZUyFpHRschvJuXVtyN/nRGl8m8ssPGHPRlgxtImFHDnDy5ElCQw9x0m8xG5eOZ/LIcXylfM3UT9riY6SOnbQX/xcW84uplsS4G5gnHmLpCiMsK8aRHrIRv3kH2e1RFcc9KzlTlPmK28ayaUb4fNqCGmUg5X6rd4OslxBPMokDIbLjAKUsil2v/LjojHJd//aWQGXdW5a66hL9y0mxruOleOjf27TOKc81vNtoZfiaQOVKWqaipB5Rtk6qozSyzP0ZS8Xso03KxazpJyuhf9dXTCYfUP/KK1oJ+F9VdXrvKr2+mq58OfEn5YeVW5QlK48pQanqtHVSdyj/vGJ3c9qahsOUT8a1Ubp53Po+X9+suiT9q45StV83pZ27Jvu95WBlxNk7v1ldIUrI9teV1+sY5ho351VNse87UnlhwV7leGKG/vOqzGDl+J8dlK45077tZamYPN1T6VYt571H4ecrZIzyvMlkZUla9tvSrvpLs7JeQjzJJA6EyI4Dje4P9cBWpmQcfgHH9e8RPKohJvqybDEE/NSEXspEPrpuS63XGtLAyRKD2PNcPhdIQLlG1D/zMzNSO9LEzZlqrs742JlBSgppJiYYZ01DIT32LOdOHeGoXwZ0aEW76pWwN9TVzSikhR8jwLw6da3z3nIeycHxTzOtxy7m17PQl+VDuUHEnul8G92Hd9t742amIT3uKPvn/suRrh/yWjUNsaf3sOu4GdZN69HM1QrjpGCCLwSwL9KLNq3dsb/bnWHpkVy9GEDg4UgiTSrjUrsSrhWdcDEroMpGN07oSQ7PeI4XTX9ipiaCmGd60dPHGZvEg+yceoiQF57j2SqFnK+0ixw6W54a1cvn+W1Kp5xLBtKeQjzJJA6EyI6DMpkUpe8bgM2qd7j4dSvs9GVZlMscGNePKV02saRJ4foTUuJWMbvPx6z4eAPLO7o+QMePkRyY0Ig3au7Cv1clfVkJSjvC2pFH0U4YTGer2/v4VuLOcSylErUrmJAR64//8lG8/2YNep39jlGVnqz+heRgIITEgRA6ujgokw2tNcYm2P+wnOkXE7Ku5+huL4+78DdLv+hEp7MjeL9+YTtYzCQleDt+uxSCgx/0AaZm2DmbEXA6rBQ8CDWJ0GWvMfinsby57FyeO9tSuHbwA953N0Or0WJUrhFN3zam/IoPef8JS4iEEEKI3MpkUmRQ81W+eWYOY2q1wa17d/o2tcG66qsMufAOv/zYj+aFPrZrMfWdyPRD69kytPp99uKcwwgzC3NSAi4TpC8pOWY4953DwvFzWDWoWp4G4SZUaPcv/3duI//3yzjGfLeIBUf/Zu0D1ZIJIYQQZV/ZvCXfqA3PzljOv59WpPWlS1zyHcWIVfs5O+9NBjgUtbbDCGvfyndvp1NEmth4bhS2r8eHyagOnb9oT03dnWZ3MMTUoQOdh33J2JHP8XxVq9vuZhOixCSeY+/2AEJTSkMQCSGeNGWyTVHplE6c/3z+cxzE85XKQhNjIUqbKI7M+YaZB5Kw6PwhU/p4cHtruMLIJCX6PKej7fD1tFFPeYQoxTIvse+vDRy97VFPGkzq9OCFJo5FqLVIIjroPFG21fCyzb5lSNyfsllTVCoZYtVgqCREZYyuYV1OI1NR0syp4FoBE93/FSzuc+cUzJ7ZPzJ92VEi9SXi3iQOSohynctH/PH3v/116HKsmt4XQeQm5kz5hYVHYvQF4n7oYkBqioQQ95YRx7WrqRhXtMPKII2ESHWnbav7Wz+82KjTjknFxMbijs5Rs2WSciOSawnqSUjWvOiLb7rMtkmTWaTtz5iP2+KsLxXioSiuuMjwZ9H7s/Fr/j7TBvrms+0ncyM8mgSj8jjYmd85PHIV336+gcRnP2fsUxX1heJ+SFIknmg5Z8dyK/LdZBB76Fcm/X6Ea6kKGit3ajpEceJcHNg157kRA2lrd57VX0xjtUVfRo9+mspZDdRiOD5vAj8fqMPLP7xAk3vU6Gec/o2Pf9hH9hP0NJh2+IDv+3vl2vkncXn9/5i5+gLR6nxkMXahRu/BDG3vjhXpxOz4jtF/XdDfkZqLZQeGf9ufOsWewD0+JA6Kqpjj4m5JUeZpNk75lf/Ox6F7+qYuNgydmtLlxX50c7dU34Xg98NE5p+++eRxvfxiSNyLLg7k8pkQogAKqdevcS3Th7bDhtCpQjDHY2rQ85WO1EvZy7K1p0nUOuNR3RLlShBnY/WV/pkhnDsZj8anGp6FaOKgdWhAl+7d6de3AR6GCunpGfohOdJJiIokOrMqDfr2o1evTnTyjOXk0gUsP6d7Tp8B5u6t6dunNfVt1N2abX3a9ulDd3Wa3bvUwln2dKJYPZq4QIknKjiO9Kpt6NqjB8/0bIJv8n5W/7aJk1nPuixHlRbdGNDZC1s1/bGq0yV7m+/eg641K9xHmzwhuwohxL1pK+JVpx4+rqYQb0rFBh1o7GtKytVrXMcK91pVMc8M4ujp7AcDK6GBHL1ujFP1KurO+t40NnXooO70n+7QANeC9kpaVxp0eJquXfvS55nGOClXOXU6Sj1EaTBxbU7Hzq3wLq9OwMabNp0700OdZo8OPsV2d6kQt3nIcZFD61aPbmqy07HbIPq0tkeJOMXJq7raIUtcmnShfUsvbNTDuaVPs+xtvkc3Ovne/oxMUTiSFAkh7oMRpmY556EaTL0a0dg6gaDDQdwgk7jLlwjHmepeD2/HrHGqipdxGjduxJO3XkmIkvGw48IEx8qVMFanFnPj9m55RfGQpEg80XRtKKQdRTEw9aVJUzsyj/lz4EY0Z45dIdOhJnWc5fbgskDi4CGRuChTdDEgSZF4ouka1uU0MhX3Yo5X71GMGduLugZ562YscG/ekMoZJ9m9w48jx1Ip16gmniW1h0lPz/N4G1EQiYMHUVriQiEjPePOGw1EoUlDa/HEkzPkojGwqICznXm+DTg1Ts3pWNeAkNX/x4FMT5o1qlT0HYzGAitrLRlnjuB3/jIXjuxi32VdQ+rCKk9FV3O4cpBNBy4QEnKao9sPcT5FDhUFkTh4MPcfF3GEnjjEiRPnuaZuosq1ixw6dJhjoTnP9Sykck64WKQTeWC3GjehhJ73Z/vBYIoSOUJqioSQM+Ri5UDdzo1w1qgHAo8GNHa8j/6ktR606FsL27BtLJo8gUkzF7H6VFE6pLOiWutWVDe/xL45kxg//gdmLNzC0RhpdVQQiYOHqYC4yDjD9lmz+GnGJo6nqW+Pr2DurF+Ytf1y0drJGVenddeqWF7ZyILJ4xg3eTYLN5ySDkyLSBcDZaeforjt/P69Ie3HtsBNX1RqZW5mbodufDHwCJdf8yk1/USk7xuAT9NI6u9dxZImlvrSEpB5gGUvduCNGhsIGNUEe31xScg5EMhZcgFSYgiLM8a+Qu4OFRUyEq4RkW6FYzkTfaNRhfTQlfw4fjcGL49iROP7bUyaSUrEGQKuJGJQvgreHraY6r/varJ5rs7r0kiIukaiWQXsLXJHme6zwQSdjiBeMcHKvRrVbHPmUeRH4uA+FEtc6LbhKG7k9L2VRYtRuZxtOp9t/LYOI7OLsqWRGHKWU+FJKMZ2uHm5YW8i9R5FUYqTojhC1w/l1d7JWG6brx7AjTj/eyM8tk3gxLy+1NB/6nYJhAcrVHTRdWhVkhIIWdKOKs+3Z1rUBIaXKz0bZf5JURin1n7NbxNnM8VP1wqjJtXHfcnYl3vR3+XhNQbMPPUWXXwj8Qz8k+k+Jfd8fjkYFIP08+xZeYw4g0hO7jlCUIU+jBjRAY+cI4USQeCm/QQl321XY41byxbUscmd2IhHSeLgIbhXXIhSRxcHpTONvDGf7wb70n7LW3S21FU1GmFmYZ49LF/JRGx5nj5eH/Lp2UR9WXFRE7R1z9N+xlEiCpM+Zu5l3S/HsJ/xIq+XooQof2pCNLMztXrFcXHUCXX5FJTYqYy5MIlZgZEPtaGq1qsvz7ZfzuzfdqtzIcq0hFDO7t/Ev+tOE+XRlzeHP3X7jj8zjBPrVrN69d1em/CPyNsjrxBl3L3iQpRKpbOmKHM783t3ZMgqC+x+3kn4W9WIWdGain8MZ9fyITTLWxUU58e2TVv4a20lWrmaUf7t/vS0LabnYyf+y7RuAxmhmcTile8zwKrgRKe01IDkJ29NUfa87iB8yWr8+1d+xJf5Yjkzqz7e4wYwPfDrEqtRkzNkISQOhNApvTVFUUfYFz+FH/cd5NDLuufAGGPj5IbxunCC87Y+U06zeVwv2n2aQudB+1k29g1e+vUIxfasYPO+DP9zFSv/HH7PhAhSuHpsLxucPKnhlPvSUxinVw/iRWcNGo36cn6RQbvD0N00HB8wi8Xja+CsK1dfRkOmsygk+yk3uiTGU9OJdlNH3hxXN3z1lrn89r5znmnpZQZwYGY72t2c3g/87+QN/cDcYgnavl6d1x4M6+h6l4So4Pkr6LsyQxbdmkdNLWqM/z+2xeV+7rM1VevWxyMsiIAw/fSEEEKIElSCSZFCesgC5n7SgKeqatUDpy+uI/5mfZya9Ti8x8+bn6bOnPeYGXyPanVNVRq/8CbPvjuAVm2n8vOK/7F4eA1SNh3jfEF1YEo4pzZcJL90IS+N5hLnPqqEVtuCWpPXsVs3j/lKIS5GnaK5LfYWOatW18aoFzX7GJL2TygZSrz6viZeEdfVxC2DG0fXMsd+DhszFJS4hXxz4X2GTPPLdUnpOAGXa9N9fwoZV8YwZNPb9Gi/hPlNtxCbsZ9/n/6XReP+D7+sfEP9rn+G0nxhU9qcvI6ihHK82TxGDpvL0vjcCYlOCrExsVDLk+p3TfZSCpy/9APjGDjcAvu9MVnfdax3ojrNBDIzD7Bi1BuM0v7E1tgMdbzJjAh8jgHTD9x2N4Sha3VaqCWRJdgzq+7MWM6OxZNO4kAIfU2p7vJZiUjfqMzpYKTg0VNp9sFnyqhP2ijPVNUqFuN3K9d0w0PGKEOoozRbHZ718cxLo5R+JpOVJWlZbwuQqaSefEvpbviB8kNUur4sr1Tl2voOiqnr18r8hEx92V2krld+fbqc4vLaF8rgr79WvhveRGm5+LySoR98uxvK6V881GWacms+05Yo3zobKk6zA5V7zroSoRyYaH9z/LS9/RUP2ir998bph/sr/zxvophMPqAkZ71PVkL/rq+mfsOUMSG6EfL5ruvTlY8MW2ZN4/bp6b+r41xla/4Lk4/b5y8jcLjSkY5K2xl7lBO5ppH9Pf2V4YFJOSXKjQ3tFUPnb2///bJ+49zL9+hVf2lW1kuIJ5nEgRDZcVByNUVaF3y71qNxqANNXx3FxEkL+XCIDUlRscTphju2ovVTJzlxNhzdxRWNoQkmuvK7iub0zDr4/HWBzKRYotP3sy0wXj8sLwNMLSzxvLKcuX7X9GU54ghZ/xnjj+ke4KeQcnguIyxnsnLWeOZ/9hkjp+9l57Pud6liM8HKphwkRhOZoK+ZiQjgRGhlbMrnvm0zl8wAdv80Vn+JyoFGox+gZ4ms70on7HVfjPSXtDTl32JKen7fbIK1jTUcD+LkbZe18ihg/rQ+0/j3RF+GRb7C0wbOOHwwj6XBCUReOsc5ljLD10x/+cyIch03k252e2Ow9Csn2YU99uVKrvWhnCELIXEghI4uBkouKdL40HzEOhbOPsIvL0/jnw1fMX1yI3r0r5/dD5G2Ea0GuJFwITz7UpJDDWqZ5L4elkqMX39cRu0gK61J2cTKj33o2rQSJjX70r+uP0Fh2U8mvpMW88Zv8l734/htOnb73U/RfzKtXyzGFXV3u6WTEBmGZsUyftwXRUr2J1RJxJxcxfqQZP37HCZUrN2UjrnbyVg4UNHwEjHXE261+8mh669naBPaHLAgoM4/HFUiODDxAXrtyfouQ5xmB5Kmu5Ps5mtrPv0SWePZppM6r6uYteHKnfOmc8/5M8SyxjCe+zKA0Lg5fBP2FgNe+YuL1jY40Z/hgUm55kF9BX1I/5v5Tyznjxzi3B3trx4tXcO6nEamQjypJA6EKBUNrW3weHYC/6swnv6dFvDvK8/xVvJvfPjDf2xZ8QNbjkOVeu5U0n1UY4ml6RH+W7+D1XMXsmPte3w8cB3lnFLYsnQpe5f9xvKESHb8vYjv12di29SchIQU7loHYtSBQZ/3wffn5Xw1dyqf/reTnRunMuezsUzxziBozy71e5YSYFKTQR7/sqBZKzxf/4KRH3TmzacdcavxBeOO3NkiSXer+YB2/7F858XsRKNcTwaMcyRszESG7A5T5yeBUL8pfL0rlMzMi5zblIJ9qx6M6VUNs8DpLFnzAE3Eyw3m1Z8rE7bwd0buDc36/szgpXy9LDCrLY+2nD0eWR/MpvUZzYQJ1zn23pdZ85Y1v3Gb+eddVxwm7SO+wPlLJWz9ANqNXpPdgNrcBfdK1mq5IdoOo/lKXQdLZ//N0mBdcphAyM4fmRGQa32pCZff0ksYDu5An1LfdYEQQogngnoGX4KilaA/mylur01T5nxTR2lkia4qKPtl2VypOW6lsiU2p12Q+tlFLXJ9xkPx9c2qOtK/6ihV+3VT2rlrst9bDlZGnM1ueXNXSfOVr6vkjK97OSnWvccoUz6tqqjJQ65y/cujrVJtyIfK89/8qUzfdka5kpZfe6R4JfjvRoqh4Shl+nV9Q5uME8r+GW2VtjnTafuxMvxPXTucFCVkfdeb5YYvfKssGFf9ZtubIrcp0lG/a+/8/soQJ/135W7zE7dQ+bal4e1tnpRQ5dSqgbk+X1OpPm6JsuRKijosvsD5y7iifk5973Rz+PfKtIDrWVPNO0y3zO/uCbnZ1im7PVLudkclQ9pSCCFxIISOLgZKtp+i6Om83VxD98Nv0tkM0mPPcuHQAqZc6Mq7/RpQ0ypvX0PpJF/dyaa/Isno3Ymu7hpiT+9h13EzrJvWo5mrFcZJwQRfCGBfpBdtWrtjf9furZOJWNMVz61vs6nJXlbYv8LztSpT3c4Uje57ru1n159BhNb0xNXdBXtzGzydre7RrkmvlD7mo9SQx3wIUapIHAiRHQclmBQppPgNoNbZiZwa6vkIruOlkxiZiIG9NcbJZwhY9wXjBkaj2fYPS5qUg7QjrB15FO3X3XCZ35eh2v+x5o26OJTsM0OEEEII8Yg8OY05Mvfy33BnTDUatGbe1OpzllNTv+PnxmpCRCrRWz9h5E/T+Wrtfg76BXA5JLpQfRiJsk13ZpBzlizEk0riQIgSrylSXZ3ES/WSaHRgNG9VegSPxEi/xMn1f7PkgB0Vu3RiUGMXyuXUBCnhnF4Ti003L+yTorhmbEcFQ6kmEkIIIZ4UJfzss0hOz+1Mi7cc8Xr7KZp6WOLNaa4HncRvZx9e2/Y6Pc0lMREPT87ZsbSlEE8yiQMhsuOghC+f2eP98ir8FljitWkUPw5/gzc+9uNX+tLl9350koRICCGEEI9Iybcp0jjj0+9v/jh8jaiT57kSsZeg719neA27wt3pJYQQQghRDEpPQ2uNNXa+7riYPTltv4UQQghRekgGIoQQQgihkqRICCGEEEJVwnefCSGEEEKUDlJTJJ5oulswc25HFuJJJXEgRKm4JV8IIYQQonSQpEgIIYQQQiVJkRBCCCGESlP9pVm3NbTWdfOuu66W839+CjMsv88UZdoPOn5+Hub4RZn2g46fn4c5flGm/aDj56c0j/8wp53jfscvyrQfdPz8PMzxizLtBx0/Pw9z/KJM+0HHz8/DHL8o037Q8fPzMMcvyrQfdPz8PMzxizLtBx0/Pw9z/LzDpKZICCGEEEIlt+QLIYQQQqikpkg80XTVpXmrU4V40kgcCJEdB1JTJIQQQgihkpoi8USTM2QhJA6E0NHFgCRFQgghhBAqSYqEEEIIIVSSFAkhhBBCqKShtRBCCCGESmqKxBNNGpgKIXEghI4uBqSmSAghhBBCJTVFj1QcoZtfoV/DL/jxUoq+TJQkOUMWQuJACB1dDEhS9Chdm8OYV1zpMEJD6o00faEqLYWUYqqvU1JSSNX/LYQQQojCk6ToDukkBa/ml/87xw19SYGStvBX3zn8l1iIrMbMjeq2PzNh0QHm7T6flbwo0b8zzuVZPjidnP2ZtKNsfnE8M6+mZ78vAiVuFbO71aXXhivop1Z81PlaNfUQEVlv4gjdNJwX14ch116FEEI8LiQpuimJmIAZzBpZg1a+PXhrXRDX9UMKkn7sF8Ys/4u5hwqRQsWf51Taq/Qb+iVzB/hirCuLOc7hiP0s33lRTccg89xsvv1zKXP3Xi1iwpFJSvB2/HYpBAfHUbwX51KJXDOMXvN2sjdDfZu5n3WTfmXBcn/OSlYkborlyh4/DkUkSbIshCiTJCnSJ0Oz3/WlUc23eHNHc5wnb2DzmKeorP/EvZXD2qIQq9KqPs2b16dnx8Y0szXKKtJU8MTL0AGfKrYYqO+11vY4qn9pFKWIBxYtpr4TmX5oPVuGVlfnqDgZYl7eFsPQ1OzLfFobyjkaoNUgBz+hl0nCoXl898d8Zv2wnpOZ+uKiSong3LELRN6zovQ65zb8yez5+7h8v98lRDHLDNvG/NmzmX3bawnbwnI1l7gn9QQ3OohjQTHcaywlMYBNf/zKvH3h6liiODzhSVESYSuepknNr/k4ahj91p3k8p7f+G/407TVJy33YuDkQUNukJJ671WZeWkZC2e/QpfnpjAjRF+XY+VNNfsIKlibo+YYeja4O5Uv8o+jxO1g87xXeXb07ywIKc4LaGrCVc4O9xu3p0AG7o5UuTXT4ommwcTeBRdjDUaOdtjc13aRTtSuX/l2+gr2xuiqJO8mmfDNs5j27y78958nUjJzUUoosec54u+P/22v45yPLUpziGD2zP6R6cuOEqkvyVf6ebb/Mpulew6y/3yMJEXF5AlPioI4uPoIV/p/woQxwxjXyRcXw6LtzTV2nlQziiLyxr2TEK33B4z5pgZdr43j7ee/YPSx6yhaG2wa6uqI9BxqUMPkfi5+XWLv94PpO3kTWye/zJCXZrIktqADS9EYVPSgSWow56J103Slck3r7AFlXMDvr2e9xIPSYOjamw8mTmLiO61wvlsYpcQQHhpOZELR28xlyyDh1N/8sjQSs3KG+jLxoCQOioeB98t8P2sWM95tgDG2NHj3R2bN+oqXvc30n9B74DiI4cy/v7H4qjk2T/hRvDjpYuDxWZ1KOKc2XCxc4+ibHPFq5o3r0vd5u2EPGn67Cf+kIubbZlWo3OwCETeS9AU5kog58TuT/zzI2TT9qazGg+aj9/Lv1p1s7bqOqU0+4J1jFpR3M8ke/iBurGHRnC9Yl5pO4tnPeNXvU75Yden2s4c71pFCevQutvz1NeMXbmd3dAGVtRYOOBqkkJz+eJ2Wy63IxSDjKEtHvsGwYW8wfOQnfPjxUo7mycczLy7ju0/eZti7oxgzbgyffzCS0b9u43SifguNXsePb7zFZ39fVt+cYvXnw9XpDVNfX/Db6VyxleDPynn+pDz1HP3q5DnQiPsmcfBoFBwH6cTsmMQbwyaw6IKaLJ1bxLisGFBfI3PHlHpiELCMeVtNaTKkG7Xl3KDYPEa35KcRvfEF6r36F6sKcxfYTfZ4v+LPmcwwgpb40OyvrrR8fSFbk4owDW0VqjYy4NyFq7kaN6cS4zeEZ5q9zKgX21Fn5BqO5yRGKo1ZQ9p8tJVTSyLZ1foVNSHpQv0qpvqhBVBCOfHHAc7lN3sJEWyr6aCeoWsxdelDr+EmnN15knP6wfmuo8wdLHrpKdoP/oIxz7elRePn6LLoGJfzS3ws7Klg8PhV0MoZcjHQOlGzc3d69epImypqgq8m5nnPf5WEKC5dN8KpRR969OhO3/aVwP8f5q47nx03Fl607NmVbnV0reEc8Orcj+7du6uvDjRwyLmUfY2TK1ew06obr/b1xVJfKh6cxMGjUXAcGGDu3pq+fVpTX1f9Y1uftn36ZMdBl1o45xyt1ROD/xYcw6DnC7zgY5ar2YV4UI9RTZEBphaWeF5Zzly/a/qyHAppwb/x3m/HidGXQCSn/vyEGRf1aYzGEY8uc5ix4Sc+u/gGQ+cHkrfe5+7scalmT0ZULNH6EjL3sPLFVFzWBHJ2+yCe+fUrPtp1c2g2jR2Ve8xkxvtn2NmwJvVs9ZfQtLbY2F7M/juvjF2seW8Lh/K7Kla+Fq+kDKK2kRatWVue+b+KGP9xkiM3j075rSNzrCr9zJ/HznPl1EKWDAzg3KDO1B4yiVH/7WD9yUsEXtPfSWTgiIPjCYKv6ToSMMHa5vG4fCZnyMVA44Dv093p2rUj9dyy7qm8C1OcG7RWd/I96NS/D62dMrlxPIgQ3QZmUpVGXbvR3EeXFNni1fIp9aDRQ321oY6N7lRYIf3iBpbusKDZs63wMHz8EvSSJHHwKN0tDjSYuDanY+dWeJdXD8023rTp3Dk7Djr4YJ+V/SRwadNqtpu059n2bkglUfF6jGqKtJg3fpP3uh/Hb9MxwvSlWZQz7Ph+DLvsbCmfXaDuXKfy9dvWWDvk3oFrMKz4GiOnPUPSukDO60vvzRzHqlUg/PqtpCh8K1O7fcCPrX3wbD2Rz6feYOvmk+p5bm5xhK4fTt9Zg5joPYNvt0ZkJx952xjloUm7QEB4Ppe5zPsyfP5C5oz5jolrdnL691bUsbXB/uYvnM860jai98zXeKGWOy7eA+n/5WJmfKIlY9GnTO7Vhs412tLl3wvZfR5pLLCsHUxsVjWvCVY2xXt/m3jCqCciVTzNISqGmMLkN8pl/JbsIbJeR7p5qOMJ8TgoYhwoEVtY8n/JeHVtSXUTqSN6GB6TpEhl1IFBn/fB9+cVTFm3kh+WbGHjxvlsmPEyo6e6oZz3Z92v45m6ejI/j/6JhQ3j8N+8jlk/LGfJypXsWPU9f3zfh7dfX462ZRWc9ZO9N0MsXb1ptSSIk7muGfjOW8AnK7ar87CGizeMyLwUSXjWEDUpu7qZTVNb0aZLOnW+60gNL1tOTljHnnsFhYE7nv0WMOmVz3jt701Z87106dKs1/b1M1myajdRcRu59GMbajY9QuaMzrTO/Qvns45WrlzClmUTmDWxK6+1acbT/zSk4dgB9LR4ivrDX2OgUxQ7Z/7If1uXc2jfU3g4FlQTIMRDEnWM/edSSDs0h0+z2ll8yNQdcZC6jdlv/cS6rBsAhHicpXPtxDGClBucnjuaN3RxMHw221LVIdum8vaPfvrOdcWDeHySIl1NSJ3uPFvxJ37s0puRz7anY8chdP7NgxZjLHGZ3ouur49hRI/RjDX7iMk1F7OqZ1feGNmXZ3v3pk3PD3l5oTkhwzax45362Oineks6cYd/YebZeP37W7T2ntTUpJKS0xbH6VneGP5//N2nrToPnzBgYSoGmTntdK5zeskrPD3iqLpx/x/rB3ej57sHudHEhUr3+jU0Dej5zQ9Msp3L4ueezprvAQMGZL3adn6LwcNX832gGxef+pkfT2zAr7drnh/4znXUu/eztH/mc978pxyXn1vJ1v1L2TpmDjNWulBr1xgm9WxDp+Ef0Oupr5n64hDeqCxJkXjYMkjPyIkXPesatO2pa2OU/brZfsnQgwZ9WuJVmH7ChChL0vO2zTPAqlo7eupjQPfq17cBHobqnr1qG7q2qIKV/pPi/j1GT8lPJmJNVzy3vseB3kEsvqYmJHXdqeFmi7UGlKSzHP5rAXubv8Ng3wpqWTLxwatY+GMq5gMbUdfWDjd3u6zP5u8aRya355u2fixpkqeJZ8b/Mb3iv0Qe+4WxzvqrvGo2H3FsJ3vxwm13H7oZ/sul13wwJI24c5tYd0hNrkwq41K7ItYZlrhWzfnueK4euoqmdlUc7to9QDJxYSe5cOo8p6MUNJVr41PelPKurriYFXRwyLOOohpSvbwNHu4ueOrX023SIwk/u4+DS3dxtufbDK7pjH3WPCmkhR8jwLw6da0L15+TeBIkc3nl10z4P1MaDB1IZ/vrXIiuSOOGLhgHzOb9/12g1rtf8HoN3eWvOAL/GsfUvQ14fepAGmRdMVa3q5Nz+GTacSzavcDgVo4YR14mwrY+Tdzy3mmW3/hClLDEy5wIjITwTfzyXwSuPZ+ng6MZ9r7euJlryShUHMSqZV8x1c+OJi8/SyfnVKKCErBqWo+qeS+ZZfiz6P3Z+DV/n2kDfaWNUTEow6dX6SRGxmbduaIkn+HEihd5q58Bnfu3xbvlSMb08qLy8cl8e+wascfep3HrbUQ8+yXDq5dDc/Rr3l0biaFLf17//nkGN/Si5s2k5G4ySUtLIjbpzsetKonXuVHOixp2Bihx5zgalYyiscbW3ZGKR4bz5sgOvNPVQ7/BGmHl0YX+/fvTv2djmlWpTA2P3N9tScX6HgUkRDqmWDnVp3a7flnT6dfYm5peaoJ1R0J0j3XUuw3929amfuV8EiIdQ3scfdUzki8nMqJuJX1CpKProK/OY5EQSQPT4mSKa6uONLUJxf+3b5kweTYLN5wquAO626jblVdbengbErl1Dj+M/5pJMxex+lRMdns78dBIHBSPjAvrmDV7Nj/9d149/Y3n/H+zmD37T9ZdKEpnulZUa92K6uaX2DdnEuPH/8CMhVs4WmCHpqI4ZMWArqaoTMrYqSzqZ6HbV+pf9ZSavxxRrmbqh1/7Wfm4mlYxfXeRsuXX+opZ06+VX6+mKUrCYmVKE62Cz1hlzo0M/YcLI0o58n0lxeyd5cqBRP14aaHKRb8vlbFPOym1FpxWEpVUJXJLT6WtZc48qS/LLkrn9ZeVpOwxHq17rSMhHoLM5BDllP9B5eCxC0pEsj5W0mOVqJAoJTY9+636KSU9PlIJiUpQ1Ki8Xfp1JSTwkHLwoL9yJOjaXWKngPGFKClZ23mIEnLbK9d2X+g40JVfzo6jg8eV09eS1ZL8pCrxkWFKRLxEQXEp25fP0i9xcv3fLDlgR8UunRjU2IVyN2s80ogL3M4Jl3Y0s0wk8rop9ja6mg21/MhMZmqG8FGd8kXo40Eh7eynDOs6mT+su9DO7hQZQRfYfqEu1adM57+RzfDImlg6yRHb2LZ8N3vjvajWpxuDqlqVXF8SBa4jkXN2LH20iCeZxIEQ2XHwGLUpehTUhCpgGr/+vIylOxww7dmd/oP78EoNO4qhT2pRAuRgIITEgRA6ujiQWzaKxAirGh/ywczd7AlYwdaJrzJcEiIhhBDisSBJkRBCCCGESpIiIYQQQgiVJEVCCCGEECppaC2EEEIIoZKaIvFE091tkHPnjRBPKokDIbLjQGqKhBBCCCFUUlMknmhyhiyExIEQOroYkKRICCGEEEIlSZEQQgghhEqSIiGEEEIIlab6S7Nua2ite/aN7rpazv/5Kcyw/D5TlGk/6Pj5eZjjF2XaDzp+fh7m+EWZ9oOOn5+HOX5Rpv2g4+fnYY5flGk/6Pj5eZjjF2XaDzp+fh7m+EWZ9oOOn5+HOX5Rpv2g4+fnYY5flGk/6Pj5eZjjF2XaDzp+fh7m+HmHSU2ReKLdLYiEEEI8eeSWfCGEEEIIldQUiSearqZIaovEk07iQAi5JV8IIYQQ4iZJioQQQgghVJIUCSGEEEKoJCkSQgghhFBJUiSEEEIIoZJb8oUQQgghVFJTJJ5ociuyEBIHQujILfmi+KVfJnCVPwFJmfoCIYQQomyQpEgUH+Ucu79qQ7PP3uK5ZZeR67JCCCHKEkmKRPHJPMG+X7rw8tQvGGyaRqy+WAghhCgLHqOkKJJT84bygX8xH4rTjrJq6iEist7EEbppOC+uD7uPWpA04s/8xNhtkfr3pZgSwtExy9meoX9fWBpH3DovYOpHc1gZHkeKvlgIIYQoCx6fpCh9G6vGzWP22gCi9UUPLpXINcPoNW8ne3UJQuZ+1k36lQXL/Tlb1KxI2cvydz9laWSyvqD0yjgyigGTzxJR1GXU2OLergMN6r/C7OH1cdAXCyGEEGXB43X5LMUAC0tTDPRvH5wh5uVtMQxNJUWXIGhtKOdogFaj5jjZHyg8jQUWNmVjdSupKcRnxBCZUMTG0ho3nMwvcXDxcv66nKovLN0Cfn896yXEk0ziQIjsOHh8kiIDN1yba7mRloGpvujBaTEtZ4f7jdtTIAN3R6qoiVHRGGFkDgkJKdxKNdJIycq2SheDCi40So8hoqhJUQ4ra8qZFHkFlQi5FVkIiQMhdB6vW/I1jjh7WZARFVuMl8/UBKGiB01SgzkXrbt+5krlmtbZA4rMEadqJoRHXFdTIZ04Qtf3w/vZ31kXV9TGO/dBCef06jOFuiSmMVOTGv3fRWOEtUNFjDKc8ahgpC8r3eQMWQiJAyF0Hq+aImxwdLMl/er1PElRPJGH5jB1Zwi3WvMkEXN6IQvH/8CPG88QnF5ApmDhgKNBCskFfSY35RqXNn7CkE+XsbWgZEcJ5uw2f67cCCc4qTDTjid80zHO31fFUjpx21+hY9+/WJWYawJqonRu9ce8On4V23LPq6EpZoWu6Mk9X1pMzCzR5qlZK83kDFkIiQMhdB6vmiLMcaxaBcNN5ziZri8iktNz29CiwWuM6DqKT4Oy74fKDPqMlxs+z/NjRvJBxwZ49hrH2KNR+d8tZWFPBYPCXkZKJmJtfzp3/Jb5E1+k69v/sDu7WkhliYOro/5vlcaXNuN3cWzhSF51MNQX3o1CWuAoXusyj5VZNVZ5JO3h99UX1VTvbrQYGBljnRbIoSs5S6mb10F07zGFuWMG0SX3vNp6UNW4MLVX95gvIYQQogx5jJIiQyxdvWkTEa1vIJxJkv+HDH/dDOvpi5ndbyXzVgeSkPVRdxy/3cKWs+c56/cBn5l8z7iWvWg47k+mbzjEnoshBOf0yGzgiIPjCYKv6RoOm2BtU8Dls5T/mDOsIS9diCXh7HsMWT+EZ77fR7i+FsXIKM8lJSNXql7/H2+uvcTNPO420ZyeWQefvy6QmRRLdPp+tgXG64fdkn7sR94PiCrgx9RiXrcvAyx2c/jcjeyi1HUsGFaTZ89EEBHwLq8uHctnW6Oyh2mMMTYuqLbn7vNl6Fqdfll/CSGEEGXLY5QUqQvjVIP66gE7u4HwGbbPWUvwnLnsGt6dTu3diVHfL09U0FZ5h5lvtqOdpzueLcYy6qcJfFHvACfGvsjbnRrQvNbHTLykr3fRWGBZO5jYRN00TbCyKaC1jUlf3js5no+rWGJccSDDxnqRMvpNOv1zQU16TLCv7IFJ7lwjbQ/LR00n1LqcmtLppBLj1x+XUTu4pnubsomVH/vQtWklTGr2pX9df4LC8u+HKWXHMfakFZDImPjg2zcTEyP9vXlRR/iz7zO8U80e++qfM/p3S3ZvPEaYbpiBK5Vcc9c73f98CSGEEGWFwViV/u+yzziWi0smsNq5IRVD13Ni3UaWn4BzSQb4OkYQOW0lC66mEqHJRLm8g0C/+az5YxSff/wnfzuOYELvSPaY9aFdz3a0ckri4oED3IjczvapttiM6EOH8hAfMJdp13swuoWzPpG5Rbn6F7NGvcLYz9/lxRE/M3tNBMl4Unf4iwypYg4x65m2IBlncz+W+0WQsPlDRs1wx6SxMzYHVnM+4i9+GrqMyE79qHzlEHEBvzF1cRwXKhoQF2dMhaR1bHAYyrt1bcnd5EdrfJnILz9gzEVbMrSJhB05wMmTJwkNPcRJv8VsXDqeySPH8ZXyNVM/aYuPkTp20l78X1jML6ZaEuNuYJ54iKUrjLCsGEd6yEb85h1kt0dVHPes5ExR5ituG8umGeHzaQtqlIGU+63eDbJeQjzJJA6EyI4DlLIodr3y46IzynX921sClXVvWeqqS/QvJ8W6jpfioX9v0zqnPNfwbqOV4WsClStpmYqSekTZOqmO0sgy92csFbOPNikXs6afrIT+XV8xmXxA/SuvaCXgf1XV6b2r9PpquvLlxJ+UH1ZuUZasPKYEparT1kndofzzit3NaWsaDlM+GddG6eZx6/t8fbPqkvSvOkrVft2Udu6a7PeWg5URZ+/8ZnWFKCHbX1der2OYa9ycVzXFvu9I5YUFe5XjiRn6z6syg5Xjf3ZQuuZM+7aXpWLydE+lW7Wc9x6Fn6+QMcrzJpOVJWnZb0u76i/NynoJ8SSTOBAiOw40uj/UA1uZknH4BRzXv0fwqIaY6MuyxRDwUxN6KRP56LottV5rSAMnSwxiz3P5XCAB5RpR/8zPzEjtSBM3Z6q5OuNjZwYpKaSZmGCcNQ2F9NiznDt1hKN+GdChFe2qV8LeUFc3o5AWfowA8+rUtc57y3kkB8c/zbQeu5hfz0Jflg/lBhF7pvNtdB/ebe+Nm5mG9Lij7J/7L0e6fshr1TTEnt7DruNmWDetRzNXK4yTggm+EMC+SC/atHbH/m53hqVHcvViAIGHI4k0qYxL7Uq4VnTCxayAKhvdOKEnOTzjOV40/YmZmghinulFTx9nbBIPsnPqIUJeeI5nqxRyvtIucuhseWpUL5/ntxFCCCFKtzKZFKXvG4DNqne4+HUr7PRlWZTLHBjXjyldNrGkSeH6E1LiVjG7z8es+HgDyzu6PkDHj5EcmNCIN2ruwr9XJX1ZCUo7wtqRR9FOGExnq9v7+FbiznEspRK1K5iQEeuP//JRvP9mDXqd/Y5RlcpG/0LFJec2ZOmjRTzJJA6EKMO35GuMTbD/YTnTLyZkXc/R3V4ed+Fvln7RiU5nR/B+/cJ2sJhJSvB2/HYpBAc/6ANMzbBzNiPgdFgpeBBqEqHLXmPwT2N5c9m5PHe2pXDt4Ae8726GVqPFqFwjmr5tTPkVH/L+E5YQCSGEELmVyZoi0raz+OUeDFzhhUsbRxpFbWb5PkNMB01m3o+vMcChKAf3NGIDQ0nxqXz3y1KFkkLYkuY4r/mME/P6UkNfWmLSjrJuUhQuo56ipq5h9W3SSY7Yxrblu9kb70W1Pt0YVNXqtsbbT4on+gw5PYRja9ey/UQo17S2OFTxofFTbWjokH0hmcRz7D2QjFtTX5xNHqsbVYvmCVgPUlNUgCclDiTes+KgbCZFKiVOTYR+/oF/F17mVMN+tHlmAB909sElq+1PSchOiioteg+/f4fQ/Ak+hpQlT+7B4AZn/p7MD1tTqVCjBp7aq1y6kITra6N42dtMHR7FkTnfMPNAEhadP2RKH49ifNByjkxSos9zOtoOX08bHk49ZRLRQeeJsq2Gl60+2SuSR7EeSt4TGQeZl9j31waO5n2igKYyTZ5/mjrmup14aYiDWIL3bGDL/jOcjzHAytmdqvWa0aGRK1b6T8h2Xjx0cVBmD90aq/b0Hb2Gv44fx//3MfzQ3bcEEyIdAyw93mb+z89KQiRKv/jDbN0RjXGzFxn9zlBeemsUYyZ/wZCshEjHnAquFTDR/V/B4iHtKILZM/tHpi87SqS+pNhFbmLOlF9YeCRGX1BUj2I9iBKhRHF+/0H8/f3zvM4QlpyTKJV0HCQTvnkm3/6xFf/r5XB0NcMgeBfrV/pzOfejp2Q7LzYS48XGEKsGQ3m+ktxzJR6EQkZCFKHXErPbgmXEERmZcJcezx9AUhw30o2wdXXg5r2SBoa5+t4yx6XTR0ycNJ6PWzkWcGk1mRvhoYSGRhCTks/jcFJiCA9Vh+csT7FTz7JvXFW/P5zIhAf4hpz5DL+hLlFuhVkPOfNwjbs/7jBnPRX0GVEkamxcu7k+00iIvL91a9j2fabPmsWsnNcv79DZNqeepITjIDOIvRsukFb7Bb788i3eeOVd3h8/mUkfdqH6/VQCPNB2rl/Ggpbhocf7w1dmL58J8fiJ4PDvP/Lb3mhS1fTEzN0L1+unOROjxarRC3zwUmMcgxczZuJuNM+MYlzHStk7r+S9/Dn6D/bVe5vvh9S8xx2UIfj9MJH5p28+lE9Pg2mHD/i+vxea07/x8Q/7yH5wy63y3J2VZoZtYcHCTRw9e434m3sQB5p88Gn25bf0YA4t/Z2F24OJyxluXJs+Xw6jsz3E7PiO0X9d0N8okYtlB4Z/258696y7V0iP8GPZb8vZciHnhgsNhj6D+ez9ljhr7r2chqQQvncBi9ce49TV5Fvzop+HmkH3Wg9JXF7/P2auvkB0qn5sYxdq9B7M0Pbu+ksbGSQGrWb+vI0citDPi8YS2xaD+eiFethml4giySD20K9M+v0I19T1rrFyp6ZDFCfOxYFdc54bMZC2dudZ/cU0Vlv0ZfTop6mcFSgxHJ83gZ8P1OHlH16giYE/i96fjV/z95k20Pe27VsnozTEAdnzuLPum0x5pe6tE5ibHsF2nnmajVN+5b/zcep+SUeNM6emdHmxH93cLdV3Otc5v+EP5q06Rbg+FjRWbtQbOJxhDWyy3pcVj1eP1kIUke4a8oyV/qWkN99rnF6/heOO3Xi9tx0RW49ytcYzDG2SyvHNh7hapSmNqyqE7zjIycyqNG/sop7fqfusS1tYvO0aju270tZVV1IQLVqtCY4VMwkLuoFhnU50bOSDl5cPPj7eVLM3Q2OgxcC0ItVrWpFyNpQYlyZ0qWV/W7Vy5uWN/LY2GMum3WjfsiUdmvlQpWI1fOq542CcSezeOUxeeYNKXZ6jT4emNK9VhYq2LlSrXRk7Q908GGBuVw6zq1cIM69H285NqenpiZevL74eFbC450nwVfbPncWysGq0HdSXTk3qUs/LEZtKXtSuUh6jwiynmtRc2f4Pq0/ZU6dnZ1o3b0WrWq44eNWkgbstJvdcD8mE7lvL1ssuNOjdnsZerlThHHu3nybBtzF1bA1JD1vDzO/Wcqp8U57u1ZWO9cqrv9dZzmd40rJFlVxtQkpW6YqDe8kkLnAjq0860/a1rviE7Wb39Tr0GlQd86M72BFblTb1XNGG72XvCQXHVg2oaqpuUJnn2LPYj3Me7enfTI0dJYwT6/y5bOdLXWdDEmJjiYtLIFlrioWxtnTEgboNE3GAffvPcDbNEodKFbG7rRH0I9jOMy+xf8keLlRuQ5eWtantY4P2/AH8jmmo2sobBwM16do8nSn/hGLSqDs9u7SgiXMCF08Ek+TZgrZq4lRWlOk2RUIUB13D0tLWuFTr6EGd+jVwM8ogydKZOm2a4GsQR8S1BPUs04NadSxRAo9zPF5XTZ9C2OlzxGjcqO5ZwHP5brLEpUkXdQfuhbprw9KnGT169FBf3ejkm/34GI1NHTqoZU93aIBrgXsIC9wat6N7OzUBaNiWDr1bUcNCN0Ia1yOvk6m1x61mdRrUq0ftpk/To19LvEyyvgET1+Z07NwK7/Lq5228adO5c/Z8dPAp3F2gmdeJupqGxt6dWjVqUr9+Ixq17UW/1lXIbhV17+W8ydCdJp2eokPTetRv2ZnebTyykpVCrwetKw06PE3Xrn3p80xjnJSrnDodpZ6RJ3F59x4C033p9Nog+raoT91mTbOXuZQpjXFwT9qKeNWph4+rKcSbUrFBBxr7mpJy9RrX1V/QvVZVzDODOHo6+7mMSmggR68b41S9ym01dOn7f+frMWMYN26c+hrD2P/OZl36KR1xYEfN/i8zsIFC8Lq5fP/ZBL5ffpDzWc/i1Hl027nWrR7dunenY7dB9GltjxJxipNqDOZc4kv17MkbL3WibcNGNG5aTZ2fskcXA6UvOoV4hHRnBrpXqWZsinnWE1V0ylOtoTfl0k/hf1K3s4/hSlAMOPlQo0LeCwAlxRTXVh1pWv4c26Z8wajvF7Js/0ViirMtjdaDFn1rYXthJT99No5v/lyP34UbJd6OQeNUFS/jNG7ciCeTKC6fvQEVPPAuNb9N/spEHNyTEaZmOdddNZh6qQdn6wSCDgdxQ1e7dPkS4ThT3ev2ZMGgVm9eGTaM119/XX0NY1gbt2K686p44kBj4Uvb18byzWdDebaxlrD1c/jh5w2cTrnjotsjYoJj5UoYq2s15oYacdcucOa6AdbeVXC6LQsre6SmSIgyR93ZezejmV0iQQdOcSP+FEcD0yhXz4cqpWiHpLFtzdAvRvJ6z7p4xu9nw9xJfPH9GgJunuE+KCNsGgzj88+G0LdpeTKOrGD+pPFMWHmWOP0nSo20dPK2+BCPgKkvTZrakXnMnwM3ojlz7AqZDjWp43z7LesauyrUr1+fBg0aqK/61Ha2uL2G5QEUXxwYYeXWlKde+IhPBlXD4NxGVh9VE+5SI5P0jIw720aVQZIUCVEKKQa16TlmHGN7qjtAfdlNhtVo1tYZ5cQetm3153hmJerVdi59wWzuQYNuL/PGmAl89XpD7M+vZu76C9xxopyefp81PAaYu7ag0/Mj+WLip7zRypSwtQtZfu72+2qy7uhLL4kddgXcqpWD64Ecu5x3nkTxMMer9yjGjO1FXYO8W5YF7s0bUjnjJLt3+HHkWCrlGtXE81EHSrHGgSn2vl5UIpW4+LzPTiih7dzOHa/yConHAgnK3U1AGSVJkRClkhEWFRyxt8jvsosJjk1aUc/4NGtXnyG9chOaV76fDtvuQWOBlbWWjDNH8Dt/mQtHdrHvcpJ+YEHSiT74Dwu2HiLgUjjh4VEkZBpgqJ5/GxoY5DoLL09FXcPwKwfZdOACISGnObr9EOcLdVkgjIOL/madrkO78KtERMWTaaj7BgOMDHLt1so54WKRTuSB3eoyhBJ63p/tB4MpzFLcdJ/rQVEP2O7t2lHb5BLbf/6e72fP4dfvfubfCyV9ke/xYmBRAWc783wveWmcmtOxrgEhq/+PA5meNGtUqegHvZKMg8yL+M1bxqZjF7gcHk5E6An2rzvABWxxq5SrmX4JbudovWndywuT0P9jxoQZ/DJ3Gj98t55z+sFljSRF4olWJhuY6pRrROenHNQdqynOTWvi9jAuneW02wnbxqLJE5g0cxGrT8UU4kw0jbiQo/gtnsX/vhnDmDHfMHHOPsKqduPFDm65djpWVGvdiurml9g3ZxLjx//AjIVbOFqYRheZ1wkP2M7yud8zecyXfDF+KrO3xuPY9Vm6V8mVIBpXp3XXqlhe2ciCyeMYN3k2CzecKlpnkXdZD4WhsW3Pq6OG0N3biITQYEK1TrhLQ+tHyIG6nRvhrMaHxqMBjR3vo9/0koyDuGDOn9zC0umTmDBmDF+M+4m5u1Jx7TmY/t657jQt0e3cCNvmwxj9mnoCYBFN+JU4lEoVy2xD67LTT1Hcdn7/3pD2Y1vgpi8qtTI3M7dDN74YeITLr/nc1q9FSUrfNwCfppHU37uKJU1K8DbJzAMse7EDb9TYQMCoJtjri0tCTuPS0nFA0HUCGEmsoV2eGqI0EqKiSbWyx+bm7bjJhK3/nnFrnHjuq5doW66oB9pkboTdINM29zTzo85TxBkCriRiUL4K3h622f0g6TrOu5qKcUU7rPJtlZpG4tULnAvW9W2inhnnHvc2us4qgwk6HUG8YoKVezWq2ZrkOosugDoPERcucOWGrsVOQeOq8xJyllPhSSjGdrh5uWGftcy6777G1WRzHOzM7xGn+a2H/MbX/VbXSDSrkH8tX/oJln85nfX2zzN+REv1kF06lK44KISUGMLijLGvYJHrd8v+PSLSrXAsl7MdKKSHruTH8bsxeHkUIxrnbmR9j9/qNiUYByW+neezngpcbnWdn1vA2G8PYjb4cz5rVZJ7+KLRxUEpTYriCF0/lFd7J2O5bb56ADfi/O+N8Ng2oYCHrSYQHqxQ0SWnM6mSkkDIknZUeb4906ImMLzIB6uHJ/+kKIxTa7/mt4mzmeKnq9avSfVxXzL25V70d3kIl2T0Mk+9RRffSDwD/2S6z527CJEfdWdzZScr/W9gmngCvx1RmPV9j9Ed3dRzNd3gCAI37Sfo5iMK8rLGrWUL6tjc6wBQwh6X5VBlXlnBlPlh2Hu6UckoiiuBRzl4yQivVz7Jc4AWxSr9PHtWHiPOIJKTe44QVKEPI0Z0wKP0bzJlUDIh62Yy70JF3F3KYZlwjpMHAjmf3pCB44fexwlbySqdc3tjPt8N9qX9lrfobKnb3RthZlFQp3TJRGx5nj5eH/Lp2UR9WXFRE7R1z9N+xlEiCpM+Zu5l3S/HsJ/xIq+X+o1BTYhmdqZWrzgujjqhLp+CEjuVMRcmMSsw8qHe3qz16suz7Zcz+7fd6lyUHN2ZQc5ZcumXSWLkSfw3r2HVIQWnPsMZkZMQ6WTqOqNbzerVd3ttwj+nV+XS7HFZDt0ZeoYB5bSXCdjyH8vW+XMKL5oPeYvXSllCVLbioBASQjm7fxP/rjtNlEdf3hz+lCRED00G6YbGGIfsY/vq/1i9K5wk9w4M+PA52pSxhKj01hRlbmd+744MWWWB3c87CX+rGjErWlPxj+HsWj6EZnn3JnF+bNu0hb/WVqKVqxnl3+5PT9v7uHacn8R/mdZtICM0k1i88n0GWBX8I5fmGpC8NUXZ87qD8CWr8e9f+RFf5ovlzKz6eI8bwPTAr0usRi3nQPB4tqcQonAkDoTIjoPSmcZFHWFf/BR+3HeQQy/rnkljjI2TG8brwgnO2wZTOc3mcb1o92kKnQftZ9nYN3jp1yPc77OC72Del+F/rmLln8PvmRDpehe+emwvG5w8qeGU+9JTGKdXD+JFZw0ajfpyfpFBu8PQ3YAZHzCLxeNr4KwrV19GQ6azKCT7CTO6JMZT04l2U0feHFc3fPWWufz2vnOeaellBnBgZjva3ZzeD/zvZH79WcQStH29Oq89GNbR9S4JUcHzV9B3ZYYsujWPmlrUGP9/bIvL3TeHNVXr1scjLIiAMP30hBBCiBJUgkmRQnrIAuZ+0oCnqmrVA6cvriP+Zr3uMccO7/Hz5qepM+c9Zgbfo5pcU5XGL7zJs+8OoFXbqfy84n8sHl6DlE3HOF9QHZgSzqkNFylM91cazSXOfVQJrbYFtSavY/ddH8WcQlyMOkVzW+yzunnX0bUx6kXNPoak/RNKhhKvvq+JV8R1NXHL4MbRtcyxn8PGDAUlbiHfXHifIdP8cl1SOk7A5dp0359CxpUxDNn0Nj3aL2F+0y3EZuzn36f/ZdG4/8MvK99Qv+ufoTRf2JQ2J6+jKKEcbzaPkcPmsjTrkRC5pRAbEwu1PKl+12QvpcD5Sz8wjoHDLbDfG5P1Xcd6J6rTTCAz8wArRr3BKO1PbI3NUMebzIjA5xgw/cBtd0MYulanhVoSqesVVQghhChhJZcUZWxm3ksv8+q/LiT3+ZRRn1SkyX+DeGbqfqJ1w8P+5o9fr7D9zPWsjxs4edAj66+8jLCq8zWL36yDg8YMl54v0i74Y17rMo+V0XdLXtKI3vgC9V79i1WJ97h6mLaRP17+mO+t3uL5r7ry0uWxfLL2MoXujzR9LQtHHMZ+xqf82dxJXeEWOLf8iLG9fbHHhEqDVrLpzWbU0P0Slh1o182G9GWHyGrznMWbts8+k9XoWevSk65PmWAyeQLrnvPBSlubZt28YcN+toWrI+R815AX+dxX9xwsJ3wGDWPE3uUsDbiftlYWBc6ftpw9Huq6jDx0ioBMJ3z7fs7nLZzJPDCFjxd0ov/r3WirS7gsOzLg5UbE/LSDbZL/CCGEKKVKLinSuuDbtR6NQx1o+uooJk5ayIdDbEiKis3upt+xFa2fOsmJs+HoLq5oDNVkQFd+V9GcnlkHn78ukJkUS3S6migExuuH5WWAqYUlnleWM9fvmr4sRxwh6z9j/DHdc6UUUg7PZYTlTFbOGs/8zz5j5PS97HzW/S4rzgQrGzUZSYwmMkGfNkUEcCK0Mjblc986mktmALt/Gqu/ROVAo9FF6lnidlnflU7Y674Y6S9pacq/xZT0/L7ZBGsbazgexMnbLmvlUcD8aX2m8e+JvgyLfIWnDZxx+GAeS4MTiLx0jnMsZYavmf7ymRHlOm4m3ez2xmDpV06yS00N7ctJC0ghhBAlr+SSIo0PzUesY+HsI/zy8jT+2fAV0yc3okf/+tn9EGkb0WqAGwkXwrMvJTnUoJZJ7lqdVGL8+uMyagdZaU3KJlZ+7EPXppUwqdmX/nX9CQrLfjrynbSYN36T97ofx2/Tsdvvfor+k2n9YjGuqLvbLZ2EyDA0K5bx474obnWqnkTMyVWsD8nbdb8JFWs3pWPudjIWDlQ0vETM9YRb7X5y6PrrGdqENgcsCKjzD0eVCA5MfIA+HbK+yxCn2YGk6e4ku/namk+/RNZ4tumkzusqZm24cue86dxz/gyxrDGM574MIDRuDt+EvcWAV/7iorUNTvRneGBSrnlQX0Ef0v9m/hPL+SOHOHdH+6tHS9ewVBqXiiedxIEQ2XFQcklRFhs8np3A/yqMp3+nBfz7ynO8lfwbH/7wH1tW/MCW41ClnjuVdB/VWGJpeoT/1u9g9dyF7Fj7Hh8PXEc5pxS2LF3K3mW/sTwhkh1/L+L79ZnYNjUnISHl7pe5jDow6PM++P68nK/mTuXT/3ayc+NU5nw2lineGQTt2aV+z1ICTGoyyONfFjRrhefrXzDyg868+bQjbjW+YNyRO1sk6W41H9DuP5bvvJidaJTryYBxjoSNmciQ3WHq/CQQ6jeFr3eFkpl5kXObUrBv1YMxvaphFjidJWseoIl4ucG8+nNlwhb+zsi9oVnfnxm8lK+XBWa15cm+3HWL1mc0EyZc59h7X2bNW9b8xm3mn3ddcZi0j/gC5y+VsPUDaDd6TXYDanMX3CtZq+WGaDuM5it1HSyd/TdLg3XJYQIhO39kRkCu9aUmXH5LL2E4uAN9SvC2Td3dBjl33gjxpJI4EEJ/F6Z6Bl+CopWgP5spbq9NU+Z8U0dpZImuKij7ZdlcqTlupbIlNv3WZxe1yPUZD8XXN6vqSP+qo1Tt101p567Jfm85WBlxNlk/7l0kzVe+rpIzvu7lpFj3HqNM+bSqoiYPucr1L4+2SrUhHyrPf/OnMn3bGeVKWqZ+QrnFK8F/N1IMDUcp069nZBdlnFD2z2irtM2ZTtuPleF/7lFOZKQoIeu73iw3fOFbZcG46oqh87fKkjRFSdvbX52Ptkr/vXHZ01H8lX+eN1FMJh9QspcsWQn9u7467jBlTIg6go76XXvn91eGOOm/i45K2xm671KHxS1Uvm1pqC7HlKzpZwtVTq0amOvzNZXq45YoS66kqMPiC5y/jCvq59T3TjeHf69MC7ieNdW8w3TL/O6eECXnazMChysd6a8MD0zSlwghhBAlq2T7KYqeztvNNXQ//CadzSA99iwXDi1gyoWuvNuvATWt8vY1lE7y1Z1s+iuSjN6d6OquIfb0HnYdN8O6aT2auVphnBRM8IUA9kV60aa1O/Z37SEtmYg1XfHc+jabmuxlhf0rPF+rMtXtTNHovufafnb9GURoTU9c3V2wN7fB09nqHu2a9ErpYz5KDXnMhxClisSBENlxUIJJkUKK3wBqnZ3IqaGej+A6XjqJkYkY2FtjnHyGgHVfMG5gNJpt/7CkSTlIO8LakUfRft0Nl/l9Gar9H2veqIuD9MP/WJODgRASB0Lo6OKghNsUPUKZe/lvuDOmGg1aM29q9TnLqanf8XNj3a3rqURv/YSRP03nq7X7OegXwOWQ6EL1YSSEEEKIx0PJXj67OomX6iXR6MBo3qr0CB6JkX6Jk+v/ZskBOyp26cSgxi6Uy6kJUsI5vSYWm25e2CdFcc3YjgqGUk30uJMzZCEkDoTQ0cVBCT/7LJLTczvT4i1HvN5+iqYelnhzmutBJ/Hb2YfXtr1OT3NJTIQQQgjx8JX8A2GVUE79O4JJXy9j3tF0sGyEx+uv8sHLz/BKDbvCNWwW4j7JGbIQEgdC6JSCmqJclFiunbpGUpXKuJg9OU2dhBBCCFE6lJ6kSIgSIGfIQkgcCKGjiwOpkhFCCCGEUElSJIQQQgihkqRICCGEEEIlSZEQQgghhEqSIiGEEEIIldx9JoQQQgihkpoi8UTT3YKZczuyEE8qiQMh5JZ8IYQQQoibNNVfmnXb5TNd5126bCnn//wUZlh+nynKtB90/Pw8zPGLMu0HHT8/D3P8okz7QcfPT2ke/2FOO8f9jl+UaT/o+Pl5mOMXZdoPOn5+Hub4RZn2g46fn4c5flGm/aDj5+dhjl+UaT/o+Pl5mOMXZdoPOn5+Hub4eYdJTZEQQgghhEoaWgshhBBCAP8PIVrh9Yozim4AAAAASUVORK5CYII=)"
   ]
  },
  {
   "cell_type": "markdown",
   "metadata": {
    "id": "hJnYkXV09hxX"
   },
   "source": [
    "###**Change the values of variables**"
   ]
  },
  {
   "cell_type": "code",
   "execution_count": null,
   "metadata": {
    "colab": {
     "base_uri": "https://localhost:8080/"
    },
    "id": "jPEMvw5D-n0m",
    "outputId": "22eead8f-b9f0-44d9-e562-bb90408642f0"
   },
   "outputs": [
    {
     "name": "stdout",
     "output_type": "stream",
     "text": [
      "76\n",
      "Sammy\n"
     ]
    }
   ],
   "source": [
    "# Set to an integer value x\n",
    "x = 76\n",
    "print(x)\n",
    "# to string x reset\n",
    "x = \"Sammy\"\n",
    "print(x)"
   ]
  },
  {
   "cell_type": "markdown",
   "metadata": {
    "id": "X8fqkVql-HDc"
   },
   "source": [
    "### **Multiple Assignment**"
   ]
  },
  {
   "cell_type": "code",
   "execution_count": null,
   "metadata": {
    "colab": {
     "base_uri": "https://localhost:8080/"
    },
    "id": "tcqN7ofK-7C4",
    "outputId": "83695230-023f-4847-cb3a-eafd4bd5b172"
   },
   "outputs": [
    {
     "name": "stdout",
     "output_type": "stream",
     "text": [
      "0\n",
      "0\n",
      "0\n",
      "shark\n",
      "2.05\n",
      "15\n"
     ]
    }
   ],
   "source": [
    "# if the the data is the same we do like this\n",
    "x = y = z = 0\n",
    "print(x)\n",
    "print(y)\n",
    "print(z)\n",
    "\n",
    "# if the the data is different we do like this\n",
    "j, k, l = \"shark\", 2.05, 15\n",
    "print(j)\n",
    "print(k)\n",
    "print(l)"
   ]
  },
  {
   "cell_type": "markdown",
   "metadata": {
    "id": "A1jF-jSk-1-O"
   },
   "source": [
    "### **Global and local variables**"
   ]
  },
  {
   "cell_type": "code",
   "execution_count": null,
   "metadata": {
    "id": "Ggw09hNc_fnl"
   },
   "outputs": [],
   "source": [
    "#Create a global variable, outside of the function \n",
    "glb_var = \"global\"\n",
    "\n",
    "def var_function():\n",
    "  #Create a local variable inside a function#\n",
    "  lcl_var = \"local\"\n",
    "  print(lcl_var)\n",
    "\n",
    "#Call a function to print the local variable #\n",
    "var_function()\n",
    "\n",
    "#Print a global variable outside of a function #\n",
    "print(glb_var)\n",
    "\n",
    "#   **What if we try to call the local variable outside the function?**"
   ]
  },
  {
   "cell_type": "code",
   "execution_count": null,
   "metadata": {
    "colab": {
     "base_uri": "https://localhost:8080/"
    },
    "id": "KowyBC0g_62l",
    "outputId": "711ae35f-799f-4945-fcff-a7c17e7fc6bb"
   },
   "outputs": [
    {
     "name": "stdout",
     "output_type": "stream",
     "text": [
      "Sammy\n",
      "Sammy\n"
     ]
    }
   ],
   "source": [
    "# if we want to make a global  variable use the keyword global \n",
    "def new_shark():\n",
    "  #make variable public \n",
    "  global shark\n",
    "  shark = \"Sammy\"\n",
    "  print(shark)\n",
    "# new_shark() function call\n",
    "new_shark()\n",
    "# shark Print the global variable\n",
    "print(shark)"
   ]
  },
  {
   "cell_type": "markdown",
   "metadata": {
    "id": "6Yf28BLLBE9r"
   },
   "source": [
    "# Data types and convert between them"
   ]
  },
  {
   "cell_type": "markdown",
   "metadata": {
    "id": "cl7iDq-cfkRw"
   },
   "source": [
    "## Data Type"
   ]
  },
  {
   "cell_type": "markdown",
   "metadata": {
    "id": "a5ake2roB2Ql"
   },
   "source": [
    "### **Integers :**Integers are the combination of zero, natural numbers and negative. It can be represented in a number line except  the fractional part. It is denoted by Z.\n"
   ]
  },
  {
   "cell_type": "code",
   "execution_count": null,
   "metadata": {
    "colab": {
     "base_uri": "https://localhost:8080/"
    },
    "id": "6TtS2i55EAW4",
    "outputId": "29952a06-8437-4376-f2d9-8d5fc861ae18"
   },
   "outputs": [
    {
     "name": "stdout",
     "output_type": "stream",
     "text": [
      "-25\n",
      "48\n"
     ]
    }
   ],
   "source": [
    "my_int = -25\n",
    "print(my_int)\n",
    "\n",
    "int_ans = 116 - 68\n",
    "print(int_ans)"
   ]
  },
  {
   "cell_type": "markdown",
   "metadata": {
    "id": "3ksSaCInD5JY"
   },
   "source": [
    "### **Floating-Point Numbers  :** is a positive or negative whole number with a decimal point"
   ]
  },
  {
   "cell_type": "code",
   "execution_count": null,
   "metadata": {
    "colab": {
     "base_uri": "https://localhost:8080/"
    },
    "id": "hlsk5EkmEtSu",
    "outputId": "8ca7b2d3-2c75-4592-e027-248e97b3f831"
   },
   "outputs": [
    {
     "name": "stdout",
     "output_type": "stream",
     "text": [
      "17.3\n",
      "929.24\n"
     ]
    }
   ],
   "source": [
    "my_flt = 17.3\n",
    "print(my_flt)\n",
    "\n",
    "flt_ans = 564.0 + 365.24\n",
    "print(flt_ans)"
   ]
  },
  {
   "cell_type": "markdown",
   "metadata": {
    "id": "2uMOHl0IFDde"
   },
   "source": [
    "### **Boolean values :**It is tow value false  of true "
   ]
  },
  {
   "cell_type": "code",
   "execution_count": null,
   "metadata": {
    "colab": {
     "base_uri": "https://localhost:8080/"
    },
    "id": "lCSsg6J0FOfa",
    "outputId": "009d6ae7-5bef-46af-fc85-aa0f7507742c"
   },
   "outputs": [
    {
     "name": "stdout",
     "output_type": "stream",
     "text": [
      "True\n",
      "False\n"
     ]
    }
   ],
   "source": [
    "bool_val = 200 < 400 # True\n",
    "print(bool_val)\n",
    "bool__val_ = 4 < 2 # False\n",
    "\n",
    "bool_val = 500 > 100 # True\n",
    "bool_val = 1 > 5 # False\n",
    "\n",
    "my_bool = 5 > 8\n",
    "print(my_bool)"
   ]
  },
  {
   "cell_type": "markdown",
   "metadata": {
    "id": "zzeitXstF8dZ"
   },
   "source": [
    "### **Strings  :** It is any word or number between ' ' or \" \""
   ]
  },
  {
   "cell_type": "code",
   "execution_count": null,
   "metadata": {
    "colab": {
     "base_uri": "https://localhost:8080/"
    },
    "id": "xhNSPVpzGKqO",
    "outputId": "b7f3aded-6375-416d-8c36-766d87570488"
   },
   "outputs": [
    {
     "name": "stdout",
     "output_type": "stream",
     "text": [
      "Hello, World!\n"
     ]
    }
   ],
   "source": [
    "hw = \"Hello, World!\"\n",
    "print(hw)"
   ]
  },
  {
   "cell_type": "markdown",
   "metadata": {
    "id": "1XcoeJMLGWe6"
   },
   "source": [
    "### **Lists :** A list is an ordered data structure with elements separated by a comma and enclosed within square brackets\n",
    "A list is used to store multiple items in one variable and can be created using square brackets. and  lists are mutable"
   ]
  },
  {
   "cell_type": "code",
   "execution_count": null,
   "metadata": {
    "colab": {
     "base_uri": "https://localhost:8080/"
    },
    "id": "kxDb8niaIz1-",
    "outputId": "1d3e4531-9a12-4e63-f727-3951aa078d64"
   },
   "outputs": [
    {
     "name": "stdout",
     "output_type": "stream",
     "text": [
      "[-3, -2, -1, 0, 1, 2, 3]\n",
      "[2, 3, 'mohammed', 2.3, 'Ali']\n"
     ]
    }
   ],
   "source": [
    "int_list=[-3, -2, -1, 0, 1, 2, 3]\n",
    "print(int_list)\n",
    "float_list=[3.14, 9.23, 111.11, 312.12, 1.05]\n",
    "string_list = ['shark', 'cuttlefish', 'squid', 'mantis','shrimp']\n",
    "max_list=[2,3,\"mohammed\",2.3,\"Ali\"]\n",
    "print(max_list)"
   ]
  },
  {
   "cell_type": "markdown",
   "metadata": {
    "id": "1TScVQidKR2M"
   },
   "source": [
    "### **Tuble  :**are used to store multiple items in a single variable, It is an immutable object, which means it cannot be changed, "
   ]
  },
  {
   "cell_type": "code",
   "execution_count": null,
   "metadata": {
    "colab": {
     "base_uri": "https://localhost:8080/"
    },
    "id": "4rC0PZdOKrZc",
    "outputId": "df5312ce-1e5d-4b7e-dc87-4333a10aa96e"
   },
   "outputs": [
    {
     "name": "stdout",
     "output_type": "stream",
     "text": [
      "()\n",
      "('blue coral', 'staghorn coral', 'pillar coral')\n"
     ]
    }
   ],
   "source": [
    "coral = ('blue coral', 'staghorn coral', 'pillar coral')\n",
    "tup=()\n",
    "print(tup)\n",
    "print(coral)"
   ]
  },
  {
   "cell_type": "markdown",
   "metadata": {
    "id": "oxlTJSFmLnZZ"
   },
   "source": [
    "### **Dictionaries  :**a data structure that is more generally known as an associative array. A dictionary consists of a collection of key-value pairs. Each key-value pair maps the key to its associated value"
   ]
  },
  {
   "cell_type": "code",
   "execution_count": null,
   "metadata": {
    "colab": {
     "base_uri": "https://localhost:8080/"
    },
    "id": "nc49SUBXL-Kj",
    "outputId": "be7d0905-1eb5-4db2-9489-6b659d8d993d"
   },
   "outputs": [
    {
     "name": "stdout",
     "output_type": "stream",
     "text": [
      "{'name': 'Sammy', 'animal': 'shark', 'color': 'blue', 'location': 'ocean'}\n"
     ]
    }
   ],
   "source": [
    "sammy = {'name': 'Sammy', 'animal': 'shark', 'color': 'blue','location': 'ocean'}\n",
    "print(sammy)"
   ]
  },
  {
   "cell_type": "markdown",
   "metadata": {
    "id": "0eZ5Kl7JMCAt"
   },
   "source": [
    "## Convert Between Them\n"
   ]
  },
  {
   "cell_type": "markdown",
   "metadata": {
    "id": "_p8tHmCOfx1V"
   },
   "source": [
    "### Integer to Float"
   ]
  },
  {
   "cell_type": "code",
   "execution_count": null,
   "metadata": {
    "colab": {
     "base_uri": "https://localhost:8080/"
    },
    "id": "lT-fS1hbgFeq",
    "outputId": "610e8769-fcb7-4293-b335-f9a23e51faaf"
   },
   "outputs": [
    {
     "name": "stdout",
     "output_type": "stream",
     "text": [
      "57.0\n"
     ]
    }
   ],
   "source": [
    "f = 57\n",
    "print(float(f))"
   ]
  },
  {
   "cell_type": "markdown",
   "metadata": {
    "id": "PDefylafgRTq"
   },
   "source": [
    "### Float to Integer"
   ]
  },
  {
   "cell_type": "code",
   "execution_count": null,
   "metadata": {
    "colab": {
     "base_uri": "https://localhost:8080/"
    },
    "id": "D6SBkz60gUnk",
    "outputId": "d17726f3-d199-4038-9e79-6f197296d043"
   },
   "outputs": [
    {
     "name": "stdout",
     "output_type": "stream",
     "text": [
      "125\n",
      "390\n"
     ]
    }
   ],
   "source": [
    "b = 125.0\n",
    "c = 390.8\n",
    "print(int(b))\n",
    "print(int(c))"
   ]
  },
  {
   "cell_type": "markdown",
   "metadata": {
    "id": "pdctg9uigf8E"
   },
   "source": [
    "### Converting numbers through division"
   ]
  },
  {
   "cell_type": "code",
   "execution_count": null,
   "metadata": {
    "colab": {
     "base_uri": "https://localhost:8080/"
    },
    "id": "Yq5NMi6_gu7Z",
    "outputId": "9349c988-39f5-4ae3-b6ca-515f65a2d6f1"
   },
   "outputs": [
    {
     "name": "stdout",
     "output_type": "stream",
     "text": [
      "2.5\n",
      "2\n"
     ]
    }
   ],
   "source": [
    "a = 5 / 2\n",
    "print(a)\n",
    "a = 9 // 4\n",
    "print(a)"
   ]
  },
  {
   "cell_type": "markdown",
   "metadata": {
    "id": "76kvOLUUg9HV"
   },
   "source": [
    "### Integer to String"
   ]
  },
  {
   "cell_type": "code",
   "execution_count": null,
   "metadata": {
    "colab": {
     "base_uri": "https://localhost:8080/"
    },
    "id": "oXfGIbBthAni",
    "outputId": "2d2bb5e2-38d1-494f-d710-7dfa60cb031b"
   },
   "outputs": [
    {
     "name": "stdout",
     "output_type": "stream",
     "text": [
      "Sammy has 5524 points.\n"
     ]
    }
   ],
   "source": [
    "f = 5524\n",
    "print(\"Sammy has \" + str(f) + \" points.\")"
   ]
  },
  {
   "cell_type": "markdown",
   "metadata": {
    "id": "6ekOBzlihKrd"
   },
   "source": [
    "### String to Integer"
   ]
  },
  {
   "cell_type": "code",
   "execution_count": null,
   "metadata": {
    "colab": {
     "base_uri": "https://localhost:8080/"
    },
    "id": "Hk6IsXs9hSNN",
    "outputId": "e3197689-270c-4be6-f070-00598a7e0e64"
   },
   "outputs": [
    {
     "name": "stdout",
     "output_type": "stream",
     "text": [
      "58\n"
     ]
    }
   ],
   "source": [
    "lines_yesterday = \"50\"\n",
    "lines_today = \"108\"\n",
    "lines_more = int(lines_today) - int(lines_yesterday)\n",
    "print(lines_more)"
   ]
  },
  {
   "cell_type": "markdown",
   "metadata": {
    "id": "J7BBiQ_HhZC1"
   },
   "source": [
    "### List to Tuple"
   ]
  },
  {
   "cell_type": "code",
   "execution_count": null,
   "metadata": {
    "colab": {
     "base_uri": "https://localhost:8080/"
    },
    "id": "gf9uQ0Hkhcms",
    "outputId": "26bca50e-11d1-4850-af49-444808dd0034"
   },
   "outputs": [
    {
     "name": "stdout",
     "output_type": "stream",
     "text": [
      "['pull request', 'open source', 'repository', 'branch']\n",
      "('pull request', 'open source', 'repository', 'branch')\n"
     ]
    }
   ],
   "source": [
    "list_data=['pull request', 'open source', 'repository','branch']\n",
    "print(list_data)\n",
    "print(tuple(list_data))"
   ]
  },
  {
   "cell_type": "markdown",
   "metadata": {
    "id": "uXMNOHRkhrpD"
   },
   "source": [
    "### Tuple to List"
   ]
  },
  {
   "cell_type": "code",
   "execution_count": null,
   "metadata": {
    "colab": {
     "base_uri": "https://localhost:8080/"
    },
    "id": "uqEoMAahhuuo",
    "outputId": "77c8cd6e-582b-494e-aced-8ef8274ccaa3"
   },
   "outputs": [
    {
     "name": "stdout",
     "output_type": "stream",
     "text": [
      "('pull request', 'open source', 'repository', 'branch')\n",
      "['pull request', 'open source', 'repository', 'branch']\n"
     ]
    }
   ],
   "source": [
    "tuple_data=('pull request', 'open source', 'repository','branch')\n",
    "print(tuple_data)\n",
    "print(list(tuple_data))"
   ]
  },
  {
   "cell_type": "markdown",
   "metadata": {
    "id": "LgnURyH1oMFC"
   },
   "source": [
    "# Libraries "
   ]
  },
  {
   "cell_type": "markdown",
   "metadata": {
    "id": "9Vweml4GoS9J"
   },
   "source": [
    "\n",
    "\n",
    "```\n",
    "# the library :\n",
    "A set of functions, commands and properties, combined together in a file, so that you can use them easily as soon as \n",
    "Call it or import it\n",
    "New libraries are permanently created, or old libraries are modified, and the machine learning specialist must keep up with this\n",
    "\n",
    "# Any library has been imported in more than one format \n",
    "import libraryname (  The name of the library is mentioned in each function)\n",
    "import libraryname as ab ( The abbreviation is mentioned in each function)\n",
    "from libraryname import function ( (only valid for one function)\n",
    "from libraryname import * (  The function is just mentioned without introduction)\n",
    "```\n",
    "\n"
   ]
  },
  {
   "cell_type": "markdown",
   "metadata": {
    "id": "XwctzdqsogxL"
   },
   "source": [
    "# Mathematical operations"
   ]
  },
  {
   "cell_type": "markdown",
   "metadata": {
    "id": "Pz3vin0fieQk"
   },
   "source": [
    "![Screenshot 2022-12-12 211349.png](data:image/png;base64,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)"
   ]
  },
  {
   "cell_type": "code",
   "execution_count": null,
   "metadata": {
    "colab": {
     "base_uri": "https://localhost:8080/"
    },
    "id": "cjJk32vsi1a4",
    "outputId": "133de912-a6cd-4769-fe71-923348369aca"
   },
   "outputs": [
    {
     "name": "stdout",
     "output_type": "stream",
     "text": [
      "191\n",
      "-61\n",
      "30\n",
      "-3.3\n",
      "3.3\n",
      "16.0\n",
      "16\n",
      "10\n",
      "1063173305051.292\n"
     ]
    }
   ],
   "source": [
    "#summation \n",
    "a = 88\n",
    "b = 103\n",
    "print(a + b)\n",
    "\n",
    "#subtraction\n",
    "c = -36\n",
    "d = 25\n",
    "print(c - d)\n",
    "\n",
    "#multiplication\n",
    "c = 6\n",
    "d = 5\n",
    "print(c * d)\n",
    "\n",
    "i = 3.3\n",
    "print(-i)\n",
    "\n",
    "i = 3.3\n",
    "print(+i)\n",
    "\n",
    "#Division\n",
    "m = 80\n",
    "n = 5\n",
    "print(m / n)\n",
    "\n",
    "# Division with whole numbers \n",
    "m = 80\n",
    "n = 5\n",
    "print(m // n)\n",
    "\n",
    "#The remainder of the division\n",
    "o = 85\n",
    "p = 15\n",
    "print(o % p)\n",
    "\n",
    "#Exponential \n",
    "s = 52.25\n",
    "t = 7\n",
    "print(s ** t)"
   ]
  },
  {
   "cell_type": "code",
   "execution_count": null,
   "metadata": {
    "colab": {
     "base_uri": "https://localhost:8080/"
    },
    "id": "6XpePeJFmVcc",
    "outputId": "b5e7938f-d985-499a-eecd-65129169f1eb"
   },
   "outputs": [
    {
     "name": "stdout",
     "output_type": "stream",
     "text": [
      "False\n",
      "False\n",
      "True\n",
      "True\n"
     ]
    }
   ],
   "source": [
    "x=4\n",
    "y=8\n",
    "# greater than \n",
    "print(x > y)\n",
    "#greater than or equal to \n",
    "print(x >= y)\n",
    "#smaller than \n",
    "print(x < y)\n",
    "#less than or equal to \n",
    "print(x <= y)"
   ]
  },
  {
   "cell_type": "code",
   "execution_count": null,
   "metadata": {
    "colab": {
     "base_uri": "https://localhost:8080/"
    },
    "id": "ZTkfqU7Umh1G",
    "outputId": "00bc37ab-2267-4e97-9e3f-22ff711bc76f"
   },
   "outputs": [
    {
     "name": "stdout",
     "output_type": "stream",
     "text": [
      "4\n",
      "(5+4j)\n",
      "(-2, 0)\n",
      "16\n"
     ]
    }
   ],
   "source": [
    "x=(-4)\n",
    "y=2\n",
    "\n",
    "#absolute value\n",
    "print(abs(x))\n",
    "\n",
    "#Convert it to a complex number ●\n",
    "print(complex(5,4))\n",
    "\n",
    "#Two numbers are the quotient and the remainder \n",
    "print(divmod(x,y))\n",
    "\n",
    "#Exponential \n",
    "print(pow(x,y))"
   ]
  },
  {
   "cell_type": "markdown",
   "metadata": {
    "id": "xh91Q7ZBo7bA"
   },
   "source": [
    "## Math libraries "
   ]
  },
  {
   "cell_type": "code",
   "execution_count": null,
   "metadata": {
    "colab": {
     "base_uri": "https://localhost:8080/"
    },
    "id": "EyFL9KmFnUIx",
    "outputId": "f4bdc64a-164d-4ee3-bcff-9fc1cc75ef2f"
   },
   "outputs": [
    {
     "name": "stdout",
     "output_type": "stream",
     "text": [
      "3\n",
      "3\n",
      "6\n",
      "20.085536923187668\n",
      "1.0986122886681098\n"
     ]
    }
   ],
   "source": [
    "#It is imported with the command ●\n",
    "import math as m\n",
    "x=3.6\n",
    "#Round up ●\n",
    "print(m.ceil(x))\n",
    "#Rounding down ●\n",
    "print(m.floor(x))\n",
    "#factorial \n",
    "print(m.factorial(x))\n",
    "#Exponential \n",
    "print(m.exp(x))\n",
    "#the function  Ln\n",
    "print(m.log(x))"
   ]
  },
  {
   "cell_type": "code",
   "execution_count": null,
   "metadata": {
    "colab": {
     "base_uri": "https://localhost:8080/"
    },
    "id": "LPu1mJNVplCV",
    "outputId": "242f98ed-0939-45f8-d487-586ad4008875"
   },
   "outputs": [
    {
     "name": "stdout",
     "output_type": "stream",
     "text": [
      "2.0\n",
      "0.6020599913279624\n",
      "2.0\n",
      "229.1831180523293\n",
      "-0.7568024953079282\n",
      "-0.6536436208636119\n",
      "1.1578212823495775\n"
     ]
    }
   ],
   "source": [
    "x=4\n",
    "y=2\n",
    "#Log for a specific basis \n",
    "print(m.log(x, y))\n",
    "#Log Base 10 \n",
    "print(m.log10 (x))\n",
    "#square root \n",
    "print(m. sqrt(x))\n",
    "#Degrees for conversion of ●\n",
    "print(m.degrees (x))\n",
    "#degrees for radians conversion of ●\n",
    "m.radians(x)\n",
    "#Trigonometric functions ●\n",
    "print(m.sin(x))\n",
    "print(m.cos(x))\n",
    "print(m.tan(x))"
   ]
  },
  {
   "cell_type": "markdown",
   "metadata": {
    "id": "Vqy3XMzWgCzw"
   },
   "source": [
    "\n",
    "# String\n"
   ]
  },
  {
   "cell_type": "code",
   "execution_count": null,
   "metadata": {
    "colab": {
     "base_uri": "https://localhost:8080/"
    },
    "id": "3VMbaSRFj2pd",
    "outputId": "2f47b40b-3f8e-4141-c54f-5ac542f97289"
   },
   "outputs": [
    {
     "name": "stdout",
     "output_type": "stream",
     "text": [
      "This string\n",
      "spans multiple\n",
      "lines.\n",
      "SammyShark\n"
     ]
    }
   ],
   "source": [
    "# It is defined in the normal way with single or double coition\n",
    "a = \"sweet home alabama\"\n",
    "a = 'sweet home alabama'\n",
    "print(\"This string\\nspans multiple\\nlines.\")\n",
    "print(\"Sammy\" + \"Shark\")\n"
   ]
  },
  {
   "cell_type": "markdown",
   "metadata": {
    "id": "Ft5kphwwkHnZ"
   },
   "source": [
    "### how the String Store \n",
    "![Screenshot 2022-12-12 164040.png](data:image/png;base64,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)"
   ]
  },
  {
   "cell_type": "markdown",
   "metadata": {
    "id": "yexz7CyAkd58"
   },
   "source": [
    "![Screenshot 2022-12-12 164107.png](data:image/png;base64,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)"
   ]
  },
  {
   "cell_type": "code",
   "execution_count": null,
   "metadata": {
    "colab": {
     "base_uri": "https://localhost:8080/"
    },
    "id": "8UmASpKvkiO2",
    "outputId": "78ddad33-a18e-4c53-b266-c32344567819"
   },
   "outputs": [
    {
     "name": "stdout",
     "output_type": "stream",
     "text": [
      "s m h\n",
      "! r  \n",
      "sammy shark!sammy shark!sammy shark!sammy shark!sammy shark!sammy shark!\n"
     ]
    }
   ],
   "source": [
    "a=\"sammy shark!\"\n",
    "#Summon a specific character (add a number to the existing number) \n",
    "print(a[0] , a[3] , a[7])\n",
    "#Letter from the end \n",
    "print(a[-1] , a[-3] , a[-7])\n",
    "#Repeat 3 times \n",
    "print(a*6)"
   ]
  },
  {
   "cell_type": "markdown",
   "metadata": {
    "id": "YNY-TXybkf4E"
   },
   "source": [
    "##Handling text strings"
   ]
  },
  {
   "cell_type": "code",
   "execution_count": null,
   "metadata": {
    "colab": {
     "base_uri": "https://localhost:8080/"
    },
    "id": "8wGfTLSll0go",
    "outputId": "06468d6f-503b-4d6e-9455-fd9172b7686b"
   },
   "outputs": [
    {
     "name": "stdout",
     "output_type": "stream",
     "text": [
      "y shar\n",
      "sammy shark!\n",
      "y shark!\n",
      "sammy shark!\n"
     ]
    }
   ],
   "source": [
    "a=\"sammy shark!\"\n",
    "#From the fifth letter to the twelfth ●\n",
    "print(a[4:10])\n",
    "#From the beginning to the twelfth ●\n",
    "print(a[:12])\n",
    "#From the fifth to the end ●\n",
    "print(a[4:])\n",
    "#The whole sentence\n",
    "print(a[:])"
   ]
  },
  {
   "cell_type": "code",
   "execution_count": null,
   "metadata": {
    "colab": {
     "base_uri": "https://localhost:8080/"
    },
    "id": "MppWzAU-mlpt",
    "outputId": "232c7b02-42b4-4db3-a61f-7fc1cdd0fc82"
   },
   "outputs": [
    {
     "name": "stdout",
     "output_type": "stream",
     "text": [
      "ysak\n",
      "sms\n",
      "a\n",
      "smysak\n"
     ]
    }
   ],
   "source": [
    "a=\"sammy shark!\"\n",
    "#From the fifth to the twelfth by step 2 ●\n",
    "print(a[4:12:2])\n",
    "#From the beginning to the seventh, step 3 ●\n",
    "print(a[:7:3])\n",
    "#From the ninth to the end, step 4 ●\n",
    "print(a[8::4])\n",
    "#The whole sentence in step 2 ●\n",
    "print(a[::2])"
   ]
  },
  {
   "cell_type": "code",
   "execution_count": null,
   "metadata": {
    "colab": {
     "base_uri": "https://localhost:8080/"
    },
    "id": "r4NLsln-minv",
    "outputId": "b0e690ab-4f33-485d-a019-3aa88914f44b"
   },
   "outputs": [
    {
     "name": "stdout",
     "output_type": "stream",
     "text": [
      "!krahs \n",
      "!krahs ymmas\n",
      "['s', 'a', 'm', 'm', 'y', ' ', 's', 'h', 'a', 'r', 'k', '!']\n",
      "[' ', '!', 'a', 'a', 'h', 'k', 'm', 'm', 'r', 's', 's', 'y']\n"
     ]
    }
   ],
   "source": [
    "\n",
    "a=\"sammy shark!\"\n",
    "#Take the letters from the end up to the fourth letter behind, and vice versa\n",
    "print(a[-1:4:-1])\n",
    "#All letters are in reverse order ●\n",
    "print(a[::-1])\n",
    "#In it, all letters alone, including the space list, will bring it ●\n",
    "print(list(a))\n",
    "#The same as the previous one, but with the order \n",
    "print(sorted(list(a)))"
   ]
  },
  {
   "cell_type": "code",
   "execution_count": null,
   "metadata": {
    "colab": {
     "base_uri": "https://localhost:8080/"
    },
    "id": "cNEbRQL4mgdl",
    "outputId": "c6798131-692c-404a-a976-c7a3948cc42a"
   },
   "outputs": [
    {
     "name": "stdout",
     "output_type": "stream",
     "text": [
      "{'a', 'r', '!', 'm', 'h', 's', ' ', 'y', 'k'}\n",
      "['sammy', 'shark!']\n",
      "['123', '478', '6698', '44120366', '']\n",
      "['sammy shark!']\n"
     ]
    }
   ],
   "source": [
    "#If it is repeated 5 times, he will answer it once, but he will not repeat it\n",
    "print(set(a))\n",
    "#He separated it based on words, not letters ●\n",
    "print(a.split())\n",
    "#And it is possible that the split is based on a specific number or symbol, so that the separators are ●\n",
    "x = \"1235478566985441203665\"\n",
    "print(x.split(\"5\"))\n",
    "#If the text is written on such lines, each line contains a sentence ●\n",
    "print(a. splitlines())"
   ]
  },
  {
   "cell_type": "code",
   "execution_count": null,
   "metadata": {
    "colab": {
     "base_uri": "https://localhost:8080/"
    },
    "id": "ILcPIIxWmdJd",
    "outputId": "096db81d-861d-49b1-8cef-707c81408e26"
   },
   "outputs": [
    {
     "name": "stdout",
     "output_type": "stream",
     "text": [
      "('he is Mohammed ', 'and', ' Ali and Samee')\n",
      "('he is Mohammed and Ali ', 'and', ' Samee')\n",
      "0\n",
      "21\n"
     ]
    },
    {
     "data": {
      "text/plain": [
       "1"
      ]
     },
     "execution_count": 22,
     "metadata": {},
     "output_type": "execute_result"
    }
   ],
   "source": [
    "#He sees it and makes a sentence before it, which is a sentence, and the one after it, a sentence, will hold the first word.\n",
    "a=\"he is Mohammed and Ali and Samee\"\n",
    "print(a.partition('and'))\n",
    "#From the right and the same idea, but he will answer the first word ●\n",
    "print(a.rpartition('and'))\n",
    "#He searches for the required word, and answers its beginning with any letter, and if it exists more than once, he answers the first one only.\n",
    "a=\"he is a good man but he is liar\"\n",
    "print(a.find('he'))\n",
    "#The same function, but the search starts from the right, but the number is the order of the letters from the left ●\n",
    "print(a.rfind('he'))\n",
    "#If you want to know the specific letter or word in its place in the sentence, use Index, and it will bring you Jet.\n",
    "#My nation, even if it was repeated more than once, will bring you the first one\n",
    "a.index('e')"
   ]
  },
  {
   "cell_type": "code",
   "execution_count": null,
   "metadata": {
    "colab": {
     "base_uri": "https://localhost:8080/"
    },
    "id": "ovW-HRWgpXM7",
    "outputId": "02b6c240-5efe-4b3e-af50-186e77846d05"
   },
   "outputs": [
    {
     "name": "stdout",
     "output_type": "stream",
     "text": [
      "students are so sweet but some oi them ugly because they are not polite with thir iriends  \n",
      "students are so ugly but some of them ugly because they are not polite with thir friends  \n",
      "2\n",
      "Students are so sweet but some of them ugly because they are not polite with thir friends  \n"
     ]
    }
   ],
   "source": [
    "a=\"students are so sweet but some of them ugly because they are not polite with thir friends  \"\n",
    "#If you want to replace certain letters with another letter, use ●Replace\n",
    "print(a.replace('f','i'))\n",
    "#And it is possible in a complete word, note that the string does not change, it shows the result and you memorize it.\n",
    "print(a.replace('sweet','ugly'))\n",
    "#How many times is the letter repeated in the sentence m?\n",
    "print(a.count('m'))\n",
    "#Make the first letter of the sentence capital and the rest small \n",
    "print(a.capitalize())"
   ]
  },
  {
   "cell_type": "code",
   "execution_count": null,
   "metadata": {
    "colab": {
     "base_uri": "https://localhost:8080/"
    },
    "id": "ieKRkzgTqui5",
    "outputId": "11a7d259-aa3e-480e-99c4-12e54bae83bf"
   },
   "outputs": [
    {
     "name": "stdout",
     "output_type": "stream",
     "text": [
      "   Artificial    Intelligence    \n",
      "   ARTIFICIAL    INTELLIGENCE    \n",
      "   aRTIFICIAL    iNTELLIGENCE    \n",
      "   Artificial    Intelligence    \n"
     ]
    }
   ],
   "source": [
    "a=\"   artificial    Intelligence    \"\n",
    "#Makes the first letter in each word a capital \n",
    "print(a.title())\n",
    "#Makes all letters capital \n",
    "print(a.upper())\n",
    "#Reverse, any capital letter makes it small and vice versa \n",
    "print(a.swapcase())\n",
    "# Makes spaces to the right and left of the words, so that the total line with spaces in the words is 30 steps.\n",
    "print(a.center(30))\n"
   ]
  },
  {
   "cell_type": "code",
   "execution_count": null,
   "metadata": {
    "colab": {
     "base_uri": "https://localhost:8080/"
    },
    "id": "Ni1RNySErEfI",
    "outputId": "afdf59e4-3dc4-4baf-a0b6-b3f58d7adb0d"
   },
   "outputs": [
    {
     "name": "stdout",
     "output_type": "stream",
     "text": [
      "Artificial    Intelligence\n",
      "   Artificial    Intelligence\n",
      "Artificial    Intelligence    \n",
      "abc\n"
     ]
    }
   ],
   "source": [
    "#It means deleting any spaces before or after speaking ●\n",
    "print(a.strip())\n",
    "#Delete any space from the right only ●\n",
    "print(a.rstrip())\n",
    "#Delete any distance from the north only ●\n",
    "print(a.lstrip())\n",
    "#abc will treat it as a space, so it will delete it, which means it will be a strip, even if you put a specific letter inside ●\n",
    "x = \"**abc**\"\n",
    "print(x. strip('*'))"
   ]
  },
  {
   "cell_type": "code",
   "execution_count": null,
   "metadata": {
    "colab": {
     "base_uri": "https://localhost:8080/"
    },
    "id": "2SeB4K53rCGg",
    "outputId": "626ebd67-ef2f-4b4e-ae77-eab4e74134ca"
   },
   "outputs": [
    {
     "name": "stdout",
     "output_type": "stream",
     "text": [
      "False\n",
      "True\n",
      "False\n",
      "False\n",
      "True\n"
     ]
    }
   ],
   "source": [
    "a=\"AI\"\n",
    "#Are all strings numbers (true or false) ●\n",
    "print(a.isdigit())\n",
    "#Are all strings capital letters ●\n",
    "print(a.isupper())\n",
    "#Is it all small ●\n",
    "print(a.islower())\n",
    "#Is the first letter Bs Capital ●\n",
    "print(a.istitle())\n",
    "print(a.isalpha())\n"
   ]
  },
  {
   "cell_type": "code",
   "execution_count": null,
   "metadata": {
    "colab": {
     "base_uri": "https://localhost:8080/"
    },
    "id": "srGfUVZarAZA",
    "outputId": "6cb51649-121b-47b3-943f-e2c6f98aaa03"
   },
   "outputs": [
    {
     "name": "stdout",
     "output_type": "stream",
     "text": [
      "sweet home alabama\n",
      "sweet home 136\n",
      "sweet alabama 136\n",
      "numbers  7\n",
      "numbers 00007\n",
      "Python has 002 quote types.\n",
      "The value of pi is 3.141592653589793\n",
      "red and blue\n",
      "blue and red\n",
      "First: A. Last: Z.\n"
     ]
    }
   ],
   "source": [
    "import numpy as np\n",
    "\n",
    "#It will be used to insert the variable of text, if you want to write sweet home, then a specific variable will be selected.\n",
    "#And after you have finished “write % after the variable s, and the user may have entered it, write % after it\n",
    "#Before that, aaa, and of course, I have to know which one is the \n",
    "aaa = \"alabama\"\n",
    "print(\"sweet home %s\" %aaa)\n",
    "#String s decimal in place of d, and if you want to put a number that is the variable, do \n",
    "bbb = 136\n",
    "print(\"sweet home %d\" %bbb)\n",
    "#And they can be combined together\n",
    "print(\"sweet %s %d\" % ( aaa , bbb ))\n",
    "#After that, write the decimal number 7, but in a space of 5 spaces, the meaning of numbers, write the word \n",
    "print(\"numbers %2d\" %7)\n",
    "#It also means that you write 7 after 5 spaces, but these spaces have zeros, which means 000007 \n",
    "print(\"numbers %05d\" %7)\n",
    "#These additions may be at the beginning or in the middle of the words \n",
    "print(\"%s has %03d quote types.\" %(\"Python\", 2))\n",
    "\n",
    "#Here, just replace the value with by in parentheses\n",
    "print(\"The value of pi is {}\". format(np.pi))\n",
    "#We replace two values (whether text or number) \n",
    "print('{0} and {1}'.format('red', 'blue'))\n",
    "#If you make different numbers, it will follow the numbers, meaning it will start with the second word.\n",
    "print('{1} and {0}'.format('red', 'blue'))\n",
    "#keywords can be \n",
    "print(\"First: {first}. Last: {last}.\". format(last='Z', first='A'))"
   ]
  },
  {
   "cell_type": "markdown",
   "metadata": {
    "id": "Eh2pVCvzuVo_"
   },
   "source": [
    "#"
   ]
  },
  {
   "cell_type": "markdown",
   "metadata": {
    "id": "e4p3OmJKfN8O"
   },
   "source": [
    "# List"
   ]
  },
  {
   "cell_type": "markdown",
   "metadata": {
    "id": "wnguqkNEgPxl"
   },
   "source": [
    "```\n",
    "○ List\n",
    "* It is treated with brackets [ ] \n",
    "* It includes different types of data, and can be modified later \n",
    "```\n",
    "**Indexing Lists**\n",
    "\n",
    "a_creatures = ['shark', 'cuttlefish', 'squid', 'mantis\n",
    "shrimp', 'anemone']\n",
    "\n",
    "![image.png](data:image/png;base64,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)\n"
   ]
  },
  {
   "cell_type": "code",
   "execution_count": null,
   "metadata": {
    "id": "PnZ1OliLviA1"
   },
   "outputs": [],
   "source": [
    "#It is defined by writing its name and making empty square brackets.\n",
    "L = [ ]\n",
    "#And numbers are added to it in this way\n",
    "s = [1,2,3,6,9,8,7]\n",
    "#The list may contain items of different types \n",
    "s = [ \"sam\", 5 , 3.2 , 5+2j ]\n",
    "#It is possible  but list inside list \n",
    "s = [ 2 , 3 , [ 4 , 5 ] ]"
   ]
  },
  {
   "cell_type": "code",
   "execution_count": null,
   "metadata": {
    "id": "zldonj0zxKE3"
   },
   "outputs": [],
   "source": [
    "#When I enter text and convert it to a list, its elements will be each of its letters, even the space ●\n",
    "x = list(\"love apple\")\n",
    "#Equal to each letter of the word, meaning each a, b, c. This is how each of these elements works. ●\n",
    "#An element of a list, provided they are exactly the same number\n",
    "a,b,c,d,e,f,g = x\n",
    "#And you can write a specific element that will write its value to you, and note that the first number is always zero, which means ●\n",
    "#The fifth element\n",
    "s[4]"
   ]
  },
  {
   "cell_type": "code",
   "execution_count": null,
   "metadata": {
    "colab": {
     "base_uri": "https://localhost:8080/"
    },
    "id": "RJGU-OYRx_4I",
    "outputId": "e70e1f3e-2794-4386-d3be-5997a7583345"
   },
   "outputs": [
    {
     "name": "stdout",
     "output_type": "stream",
     "text": [
      "['Mohammed', 'Ali', 'Omer', 'Fawaz', 'Omair', 'Samaia', 'Warda']\n",
      "['Mohammed', 'Ali', 'Omer', 'Fawaz', 'Omair', 'Samaia']\n",
      "['Alrmadi', 'Ahmed']\n",
      "['Mohammed', 'Ali', 'Omer', 'Fawaz', 'Omair', 'Samaia', 'Warda', 'Alrmadi', 'Ahmed']\n",
      "['Mohammed', 'Ali', 'Omer', 'Fawaz', 'Omair', 'Samaia', 'Warda', 5, 'Ahmed']\n",
      "['Mohammed', 'Ali', 'Samaia', 'Warda', 5, 'Ahmed']\n",
      "[]\n"
     ]
    }
   ],
   "source": [
    "t=[\"Mohammed\",\"Ali\",\"Omer\",\"Fawaz\",\"Omair\",\"Samaia\",\"Warda\",\"Alrmadi\",\"Ahmed\"]\n",
    "#And I can tell him to give all the elements up to the sixth element, and leave the first field blank.\n",
    "y = t[:7]\n",
    "print(y)\n",
    "#It means that these elements are from the first, but ignore the last 3 elements from the last ●\n",
    "y = t[:-3]\n",
    "print(y)\n",
    "#Or come from the seventh element until the last element ●\n",
    "y = t[7:]\n",
    "print(y)\n",
    "#And if you want it all, write like this ●\n",
    "y = t[:]\n",
    "print(y)\n",
    "#An amendment is made in the list ●\n",
    "t[7]=5\n",
    "print(t)\n",
    "#Wipe from the third to the fifth item ●\n",
    "t[2:5]=[]\n",
    "print(t)\n",
    "#● Erase them all\n",
    "t[:]=[]\n",
    "print(t)\n",
    "#If you want to delete a value from them, write del and write the name of the list and the index ●\n",
    "del t[4]\n",
    "#If you want to clear the entire list, type this\n",
    "del y\n",
    "#b means delete any element named \n",
    "y.remove(\"b\")"
   ]
  },
  {
   "cell_type": "code",
   "execution_count": null,
   "metadata": {
    "colab": {
     "base_uri": "https://localhost:8080/"
    },
    "id": "BVDkJr-czYW1",
    "outputId": "e2f53115-0db2-4c26-a633-31387a505a1d"
   },
   "outputs": [
    {
     "name": "stdout",
     "output_type": "stream",
     "text": [
      "['a', 'b', 'c']\n",
      "9\n",
      "45\n",
      "9\n",
      "1\n",
      "[1, 2, 3, 4, 5, 6, 7, 8, 9]\n",
      "4\n",
      "[1, 2, 3, 4, 5, 999999, 6, 7, 8, 9, 555]\n"
     ]
    }
   ],
   "source": [
    "\n",
    "#List within a list ●\n",
    "y=[1,2,3,4,5,6,7,8,9]\n",
    "a = ['a', 'b', 'c']\n",
    "n = [1, 2, 3]\n",
    "x = [a, n]\n",
    "x= [['a', 'b', 'c'], [1, 2, 3]]\n",
    "#['a', 'b', 'c'] means the first element in it, means the first list ●\n",
    "print(x[0])\n",
    "\n",
    "#If you want to know how many elements they are ●\n",
    "print(len(y))\n",
    "#The sum of their values if they are numbers, and if the elements contain something that is not numbers, it will not work ●\n",
    "print(sum(y))\n",
    "#It is the smallest and a, b, c is the least or largest value in it, and if we use it in the string, it will be treated as letters ●\n",
    "#greater than x , y , z\n",
    "print(max(y))\n",
    "print(min(y))\n",
    "# Sort from small to large, whether numbers or letters \n",
    "print(sorted(y))\n",
    "#Sort the list itself if you do the command \n",
    "y.sort()\n",
    "#Add a value to the list ●\n",
    "y.append (555)\n",
    "#If you want to add an item in a specific place in the list (not in the other) then enter it, write the first number ●\n",
    "#The desired index, and then type the value\n",
    "y.insert(5,999999)\n",
    "#If you want to see this element repeated, how many times, use Count ●\n",
    "y.count (555)\n",
    "#If you want to know the number of such and such element, how many: Index ●\n",
    "print(y.index (5))\n",
    "print(y)"
   ]
  },
  {
   "cell_type": "code",
   "execution_count": null,
   "metadata": {
    "colab": {
     "base_uri": "https://localhost:8080/"
    },
    "id": "FXZLRhdk-emm",
    "outputId": "69c21770-bd0d-4f68-f591-eb4b6528ddfd"
   },
   "outputs": [
    {
     "name": "stdout",
     "output_type": "stream",
     "text": [
      "None\n"
     ]
    }
   ],
   "source": [
    "x=[1,2,3,4,5,6,7,8,9]\n",
    "#Can I reverse the order of the elements, the last is first and the first is last ●\n",
    "v=x.reverse()\n",
    "# print(v)\n",
    "#Deletes the last element of the list ●\n",
    "y.pop()\n",
    "#Delete the fifth element in the list ●\n",
    "x.pop(4)\n",
    "#A function called the ring, and it is used to make numbers from zero to before the given number with one.\n",
    "# N = range(20)\n",
    "# #And to turn it into a list, use this ●\n",
    "# M = list(range(20))\n",
    "# #And if you want a range from number to number (minus one), you can do this, you will find that the numbers are displayed from 2 to 19 ●\n",
    "# N = range(2,20)\n",
    "#And the composition of the list could be like this. I say I want to cube all the numbers from zero to 11 ●\n",
    "# y = [ x**3 for x in range(12)]\n",
    "# y = list(map(lambda x : x**3 , range(12)))\n",
    "# #One of the ways in which it can be created is not ●\n",
    "# ss = [-5 + i*0.5 for i in range(20)]\n",
    "#[(4 , 3) , (1 , 3) , (4 , 2) , (1 , 2) , (3 , 2) , (4 , 1) , (3 ), and I can form it like this, so that it equals [( 1 ●\n",
    "# f = [(x, y) for x in [1,2,3] for y in [3,1,4] if x ! = y]\n",
    "#If you want to work for six dimensions, the number of rows is 7 and the number of columns is 5 ●\n",
    "# L = [[0 for i |in range(5)] for j in range(7)]"
   ]
  },
  {
   "cell_type": "markdown",
   "metadata": {
    "id": "ykD_HZ3u_FTK"
   },
   "source": [
    "# Tuple"
   ]
  },
  {
   "cell_type": "markdown",
   "metadata": {
    "id": "xxuV-TRZ_OA7"
   },
   "source": [
    "\n",
    "\n",
    "```\n",
    "# ○ Tuple \n",
    "■ It is treated with brackets ( )\n",
    "Include immutable data\n",
    "\n",
    "It is defined by ( ) instead of the [ ] tuple, similar to the list whose name is ●\n",
    "L = ()\n",
    "And the main difference between them is that the table cannot be modified, added or deleted, and it will be useful in the case of ●\n",
    "The fixed lists that I will not change (the names of the months of the year)\n",
    "p = (1,2,3,6,6,9,4)\n",
    "It refuses to deal with any function in which data is modified, rearranged or deleted\n",
    "```\n",
    "\n"
   ]
  },
  {
   "cell_type": "code",
   "execution_count": null,
   "metadata": {
    "colab": {
     "base_uri": "https://localhost:8080/"
    },
    "id": "wJh2alF-ACmj",
    "outputId": "5abd896f-07e9-49b3-ba35-ac39b091a84f"
   },
   "outputs": [
    {
     "name": "stdout",
     "output_type": "stream",
     "text": [
      "pillar coral\n",
      "('blue coral', 'staghorn coral', 'pillar coral', 'elkhorn coral')\n",
      "blue coral\n",
      "This reef is made up of staghorn coral\n",
      "('staghorn coral', 'pillar coral')\n",
      "('blue coral', 'staghorn coral', 'pillar coral')\n",
      "('staghorn coral', 'pillar coral', 'elkhorn coral')\n",
      "(1, 3, 5, 7, 9)\n",
      "(0, 3, 6, 9, 12)\n",
      "('blue coral', 'staghorn coral', 'pillar coral', 'elkhorn coral', 'wakame', 'alaria', 'deep-sea tangle', 'macrocystis')\n",
      "('blue coral', 'staghorn coral', 'pillar coral', 'elkhorn coral', 'blue coral', 'staghorn coral', 'pillar coral', 'elkhorn coral')\n",
      "('wakame', 'alaria', 'deep-sea tangle', 'macrocystis', 'wakame', 'alaria', 'deep-sea tangle', 'macrocystis', 'wakame', 'alaria', 'deep-sea tangle', 'macrocystis')\n"
     ]
    }
   ],
   "source": [
    "coral = ('blue coral', 'staghorn coral', 'pillar coral','elkhorn coral')\n",
    "print(coral[2])\n",
    "print(coral)\n",
    "print(coral[-4])\n",
    "print('This reef is made up of ' + coral[1])\n",
    "print(coral[1:3])\n",
    "print(coral[:3])\n",
    "print(coral[1:])\n",
    "numbers = (0, 1, 2, 3, 4, 5, 6, 7, 8, 9, 10, 11, 12)\n",
    "print(numbers[1:11:2])\n",
    "print(numbers[::3])\n",
    "\n",
    "coral = ('blue coral', 'staghorn coral', 'pillar coral','elkhorn coral')\n",
    "kelp = ('wakame', 'alaria', 'deep-sea tangle', 'macrocystis')\n",
    "coral_kelp = (coral + kelp)\n",
    "print(coral_kelp)\n",
    "\n",
    "multiplied_coral = coral * 2\n",
    "multiplied_kelp = kelp * 3\n",
    "print(multiplied_coral)\n",
    "print(multiplied_kelp)\n"
   ]
  },
  {
   "cell_type": "code",
   "execution_count": null,
   "metadata": {
    "colab": {
     "base_uri": "https://localhost:8080/"
    },
    "id": "6tXhyVF_B8dd",
    "outputId": "b7902f44-68bd-44b4-f40f-7848318def97"
   },
   "outputs": [
    {
     "name": "stdout",
     "output_type": "stream",
     "text": [
      "95.59\n",
      "11.12\n"
     ]
    },
    {
     "data": {
      "text/plain": [
       "['blue coral', 'staghorn coral', 'pillar coral']"
      ]
     },
     "execution_count": 30,
     "metadata": {},
     "output_type": "execute_result"
    }
   ],
   "source": [
    "# print(len(kelp))\n",
    "# print(len(numbers))\n",
    "more_numbers = (11.13, 34.87, 95.59, 82.49, 42.73, 11.12,\n",
    "95.57)\n",
    "print(max(more_numbers))\n",
    "print(min(more_numbers))\n",
    "list(coral)\n"
   ]
  },
  {
   "cell_type": "markdown",
   "metadata": {
    "id": "zCqbejLMCZTO"
   },
   "source": [
    "# Dictionary"
   ]
  },
  {
   "cell_type": "markdown",
   "metadata": {
    "id": "KDkpzEScHDNB"
   },
   "source": [
    "\n",
    "\n",
    "```\n",
    "# #For example, I want to write the codes of certain countries, , value and the value of the key, which is more like making a guide to link the ● key\n",
    "#So that the code can be recalled easily\n",
    "#Don't forget that I have to do these parentheses { } and then the key will be in it, then the value will be in a cotation ●\n",
    "```\n",
    "\n"
   ]
  },
  {
   "cell_type": "code",
   "execution_count": null,
   "metadata": {
    "colab": {
     "base_uri": "https://localhost:8080/"
    },
    "id": "j4iNcF32FLw8",
    "outputId": "e2a7ab6e-7ac2-4344-bb7e-46823815b9d0"
   },
   "outputs": [
    {
     "name": "stdout",
     "output_type": "stream",
     "text": [
      "True\n",
      "False\n",
      "False\n",
      "0030\n",
      "0030\n",
      "044\n",
      "0\n",
      "{'names': ('a', 'b', 'c'), 'address': ('x', 'y', 'z')}\n",
      "c\n"
     ]
    }
   ],
   "source": [
    "\n",
    "#So that when I call for the key, he brings me the value immediately\n",
    "allkeys = {'egypt':'0020' , 'america':'001' , 'ksa':'00966'}\n",
    "#way to write a dictionary ●\n",
    "{n:n**2 for n in range(6)}\n",
    "\n",
    "#And it can be modified\n",
    "allkeys['egypt'] = '0030'\n",
    "#true in the keys, it says egypt, and if you make a question, is the word ●\n",
    "print ('egypt' in allkeys)\n",
    "#And if you ask him if 0020 is one of the keys, he will say no. ●\n",
    "print ('0020' in allkeys)\n",
    "#But if I tell him it is 0020 of the values, he will say yes ●\n",
    "print ('0020' in allkeys.values())\n",
    "\n",
    "#egypt for the value key here, the value of the ●\n",
    "print (allkeys. get('egypt'))\n",
    "#Give the value 0300, and he will answer 0020 egypt Here is the same issue, but by saying it if you don't find a key ●\n",
    "print (allkeys. get('egypt','0300'))\n",
    "#We are here to meet France, he will answer 044 ●\n",
    "print (allkeys. get('France','044'))\n",
    "#It is possible to add an element in the dictionary like this, and it will be in the first ●\n",
    "allkeys['Germany'] = '0046'\n",
    "\n",
    "#And it is possible to delete the value of them ●\n",
    "del(allkeys['egypt'] )\n",
    "#And it is possible to enter all the values in it ●\n",
    "allkeys. clear()\n",
    "#Or if you want to delete it itself ●\n",
    "print(len(allkeys))\n",
    "#And if you want to know how many elements ●\n",
    "#del(allkeys)\n",
    "\n",
    "#And it is possible to copy a dictionary inside a Cuban command ●\n",
    "dic =allkeys.copy()\n",
    "#And it is possible to convert all the elements to a list, to be the keys to a new dictionary with this command ●\n",
    "#First I knew his language, then I said that so-and-so dictionary, make his keys from this language.\n",
    "list1 = {\"a\",\"b\",\"c\",\"d\"}\n",
    "dic2 = dict. fromkeys(list1)\n",
    "#Of course, if you want to fill in the other data, use this command ●\n",
    "#dic2['a'] = 'aaa'If you want to make six with the keys only ●\n",
    "a=list(dic2. keys())\n",
    "#And if I want to work for six with the information only ●\n",
    "b = list(dic2. values())\n",
    "#And if I want to work for six, I eat ●\n",
    "c = list(dic2. items())\n",
    "#The dictionary can be nested like this, so that each key has more than one value ●\n",
    "allkeys={'names':('a','b','c'),'address':('x','y','z')}\n",
    "\n",
    "#If you do this, the eight values and keys will appear ●\n",
    "print (allkeys)\n",
    "#This will show the three values of the first key ●\n",
    "#print ( allkeys['names'] )\n",
    "#This will show the third value of the first key only ●\n",
    "print(allkeys['names'][2])\n",
    "#Here, if you delete a specific key, it will be erased along with all of its values. ●\n",
    "del ( allkeys['names'])"
   ]
  },
  {
   "cell_type": "markdown",
   "metadata": {
    "id": "WZJsWhr1CeVE"
   },
   "source": []
  },
  {
   "cell_type": "markdown",
   "metadata": {
    "id": "HFnyQ7uSHsCE"
   },
   "source": [
    "# Set"
   ]
  },
  {
   "cell_type": "markdown",
   "metadata": {
    "id": "o7LceCoXIE8a"
   },
   "source": [
    "\n",
    "\n",
    "```\n",
    "# Set:  are similar to lists, but they do not allow repetition. Any duplicate item you delete immediately, just as ●\n",
    "They arrange the elements, so they are {1,2,3,4,6,8}\n",
    "```\n",
    "\n"
   ]
  },
  {
   "cell_type": "code",
   "execution_count": null,
   "metadata": {
    "id": "k5RIbyC5HvB-"
   },
   "outputs": [],
   "source": [
    "\n",
    "D = {1,1,2,2,6,8,4,6,3}\n",
    "#And you can write with the same conditions mentioned in the lists ●\n",
    "a ={n**2 for n in range(12)}\n",
    "#Only the least items are answered ●\n",
    "a or b\n",
    "#Answer only the most elements ●\n",
    "a and b\n",
    "\n",
    "#All items here and here ●\n",
    "#a | b\n",
    "a.union(b)\n",
    "b.union(a)\n",
    "#● common items only\n",
    "#a & b\n",
    "a.intersection(b)\n",
    "\n",
    "#All items except common ●\n",
    "#a^b\n",
    "a.symmetric_difference(b)\n",
    "b.symmetric_difference(a)\n",
    "#E after deleting elements D elements ●\n",
    "#a - b\n",
    "a.difference(b)"
   ]
  },
  {
   "cell_type": "markdown",
   "metadata": {
    "id": "72hkxA9bJWAa"
   },
   "source": [
    "# Conditional statement"
   ]
  },
  {
   "cell_type": "markdown",
   "metadata": {
    "id": "iHfUi3MnLQUB"
   },
   "source": [
    "\n",
    "\n",
    "```\n",
    "# F is written, followed by a colon, then in the next line a space is left, and Python knows that thousands are finished.\n",
    "\n",
    "```\n",
    "\n"
   ]
  },
  {
   "cell_type": "code",
   "execution_count": null,
   "metadata": {
    "colab": {
     "base_uri": "https://localhost:8080/"
    },
    "id": "S3rEDqJvLdQI",
    "outputId": "c128f97e-1435-4474-d48f-1aa076f17818"
   },
   "outputs": [
    {
     "name": "stdout",
     "output_type": "stream",
     "text": [
      "hello\n",
      "hello\n",
      "درجة الرسوب\n",
      "hello\n",
      "hello\n",
      "11\n"
     ]
    }
   ],
   "source": [
    "#When you find that the line is written without a space\n",
    "x=4\n",
    "if x != 5 :\n",
    "  print('hello')\n",
    "#If you use eles, it will be the line after it, and make two points, and go north ●\n",
    "if x != 5 :\n",
    "  print('hello')\n",
    "else :\n",
    "  print('no')\n",
    "\n",
    "grade = 60\n",
    "if grade >= 65:\n",
    "  print(\" درجة النجاح\")\n",
    "else:\n",
    "  print(\"درجة الرسوب\")\n",
    "\n",
    "\n",
    "#And if you want to use Else F, write it Alif ●\n",
    "if x != 5 :\n",
    "  print('hello')\n",
    "elif x > 8 :\n",
    "  print('yes')\n",
    "else :\n",
    "  print('no')\n",
    "#And it is possible not to create new lines, to be in the same line ●\n",
    "if x != 5 : print('hello')\n",
    "elif x > 8 : print('yes')\n",
    "else :print('no')\n",
    "\n",
    "\n",
    "#and , or and of course you can use it together ●\n",
    "#and , or\n",
    "#The two symbols are respectively equivalent to or and and both of ●\n",
    "#and = &\n",
    "#or = |\n",
    "#b is greater, and it is not a if a is in the heart of a line like this and its meaning, the value of max is if and you can enter ●\n",
    "a,b = 11,10\n",
    "max = a if (a>b) else b\n",
    "print (max)"
   ]
  }
 ],
 "metadata": {
  "accelerator": "GPU",
  "colab": {
   "collapsed_sections": [
    "QHCkWtqjcfIq",
    "brQG8g01chWa",
    "nAlrhs7cCSnH",
    "A2ObD3bG33CX",
    "mQzxY9-R8O2e",
    "hJnYkXV09hxX",
    "X8fqkVql-HDc",
    "A1jF-jSk-1-O",
    "cl7iDq-cfkRw",
    "a5ake2roB2Ql",
    "3ksSaCInD5JY",
    "2uMOHl0IFDde",
    "zzeitXstF8dZ",
    "1XcoeJMLGWe6",
    "1TScVQidKR2M",
    "oxlTJSFmLnZZ",
    "0eZ5Kl7JMCAt",
    "_p8tHmCOfx1V",
    "PDefylafgRTq",
    "pdctg9uigf8E",
    "76kvOLUUg9HV",
    "6ekOBzlihKrd",
    "J7BBiQ_HhZC1",
    "uXMNOHRkhrpD",
    "LgnURyH1oMFC",
    "XwctzdqsogxL",
    "xh91Q7ZBo7bA",
    "e4p3OmJKfN8O",
    "ykD_HZ3u_FTK",
    "zCqbejLMCZTO",
    "HFnyQ7uSHsCE",
    "72hkxA9bJWAa"
   ],
   "provenance": []
  },
  "gpuClass": "standard",
  "kernelspec": {
   "display_name": "Python 3 (ipykernel)",
   "language": "python",
   "name": "python3"
  },
  "language_info": {
   "codemirror_mode": {
    "name": "ipython",
    "version": 3
   },
   "file_extension": ".py",
   "mimetype": "text/x-python",
   "name": "python",
   "nbconvert_exporter": "python",
   "pygments_lexer": "ipython3",
   "version": "3.9.7"
  }
 },
 "nbformat": 4,
 "nbformat_minor": 1
}
